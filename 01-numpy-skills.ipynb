{
 "cells": [
  {
   "cell_type": "markdown",
   "metadata": {},
   "source": [
    "<br><br><br><br><br>\n",
    "\n",
    "# Numpy (and Pandas) skills\n",
    "\n",
    "<br><br><br><br><br>"
   ]
  },
  {
   "cell_type": "markdown",
   "metadata": {},
   "source": [
    "<br><br><br><br><br><br>\n",
    "\n",
    "<b>Why use Python for data analysis?</b>\n",
    "\n",
    "<br><br><br><br><br><br>"
   ]
  },
  {
   "cell_type": "markdown",
   "metadata": {},
   "source": [
    "<img src=\"img/pypl-2019.png\" width=\"100%\">"
   ]
  },
  {
   "cell_type": "markdown",
   "metadata": {},
   "source": [
    "<br><br><br>\n",
    "\n",
    "<img src=\"img/python-r-cpp-googletrends-machinelearning.png\" width=\"100%\">\n",
    "\n",
    "<br><br><br>"
   ]
  },
  {
   "cell_type": "markdown",
   "metadata": {},
   "source": [
    "<br>\n",
    "\n",
    "<img src=\"img/root-spark-pandas-google-trends.png\" width=\"100%\">\n",
    "\n",
    "<br>"
   ]
  },
  {
   "cell_type": "markdown",
   "metadata": {},
   "source": [
    "<center><img src=\"img/mentions-of-programming-languages.png\" width=\"70%\"></center>"
   ]
  },
  {
   "cell_type": "markdown",
   "metadata": {},
   "source": [
    "<center><img src=\"img/ligo-notebook.png\" width=\"60%\"></center>"
   ]
  },
  {
   "cell_type": "markdown",
   "metadata": {},
   "source": [
    "<img src=\"img/shells-1.png\" width=\"70%\"><i>(Stolen from Jake Vanderplas.)</i>"
   ]
  },
  {
   "cell_type": "markdown",
   "metadata": {},
   "source": [
    "<img src=\"img/shells-2.png\" width=\"70%\"><i>(Stolen from Jake Vanderplas.)</i>"
   ]
  },
  {
   "cell_type": "markdown",
   "metadata": {},
   "source": [
    "<img src=\"img/shells-3.png\" width=\"70%\"><i>(Stolen from Jake Vanderplas.)</i>"
   ]
  },
  {
   "cell_type": "markdown",
   "metadata": {},
   "source": [
    "<img src=\"img/shells-4.png\" width=\"70%\"><i>(Stolen from Jake Vanderplas.)</i>"
   ]
  },
  {
   "cell_type": "markdown",
   "metadata": {},
   "source": [
    "<img src=\"img/shells-5.png\" width=\"70%\"><i>(Stolen from Jake Vanderplas.)</i>"
   ]
  },
  {
   "cell_type": "markdown",
   "metadata": {},
   "source": [
    "### The key to ecosystem development was a common array library\n",
    "\n",
    "| Date | Development |\n",
    "|:----:|:-----|\n",
    "| 1994 | **Python** 1.0 released. |\n",
    "| 1995 | **Numeric** was the first array package (a.k.a. Numerical, Numerical Python, Numpy). |\n",
    "| 2001 | **SciPy** gathered scientific functions into one codebase. |\n",
    "| 2003 | **Matplotlib** released (though it was one among many plotters... R.I.P. **Biggles**). |\n",
    "| 2003 | **Numarray** introduced as a competitor to **Numeric** with more features (memory-mapped files, alignment, record arrays). |\n",
    "| <br> | _Scientific Python community split over building their applications on **Numeric** or **Numarray**!_ |\n",
    "| 2005 | **Numpy**, a new library, unified features of **Numeric** and **Numarray**, became the common array library. |"
   ]
  },
  {
   "cell_type": "markdown",
   "metadata": {},
   "source": [
    "### The key to ecosystem development was a common array library\n",
    "\n",
    "| Date | Development |\n",
    "|:----:|:-----|\n",
    "| 1994 | **Python** 1.0 released. |\n",
    "| 1995 | **Numeric** was the first array package (a.k.a. Numerical, Numerical Python, Numpy). |\n",
    "| 2001 | **SciPy** gathered scientific functions into one codebase. |\n",
    "| 2003 | **Matplotlib** released (though it was one among many plotters... R.I.P. **Biggles**). |\n",
    "| 2003 | **Numarray** introduced as a competitor to **Numeric** with more features (memory-mapped files, alignment, record arrays). |\n",
    "| <br> | _Scientific Python community split over building their applications on **Numeric** or **Numarray**!_ |\n",
    "| 2005 | **Numpy**, a new library, unified features of **Numeric** and **Numarray**, became the common array library. |\n",
    "| 2008 | **Pandas** first released. |\n",
    "| 2010 | **Scikit-Learn** first released. |\n",
    "| 2011 | **AstroPy** first released. |\n",
    "| 2012 | **Anaconda** first released. |\n",
    "| 2014 | **Jupyter** first released. |\n",
    "| 2015 | **Keras** first released. |"
   ]
  },
  {
   "cell_type": "code",
   "execution_count": 23,
   "metadata": {},
   "outputs": [
    {
     "name": "stdout",
     "output_type": "stream",
     "text": [
      "[-2.60178343e+02  1.36013250e+00  1.56623327e+03 ...  3.96612118e+01\n",
      " -5.02910769e+02  1.74078165e+02]\n",
      "[-2.60178343e+02  1.36013250e+00  1.56623327e+03 ...  3.96612118e+01\n",
      " -5.02910769e+02  1.74078165e+02]\n"
     ]
    }
   ],
   "source": [
    "# Numpy provides speed and conciseness over pure Python.\n",
    "\n",
    "import numpy\n",
    "\n",
    "BIG = 1000000\n",
    "pt = abs(numpy.random.normal(100, 10, BIG))\n",
    "eta = numpy.random.normal(0, 2, BIG)\n",
    "\n",
    "# Pythonic:\n",
    "pz1 = numpy.empty(len(pt))\n",
    "for i in range(len(pt)):\n",
    "    pz1[i] = pt[i] * numpy.sinh(eta[i])\n",
    "\n",
    "# Numpythonic:\n",
    "pz2 = pt * numpy.sinh(eta)\n",
    "\n",
    "print(pz1)\n",
    "print(pz2)"
   ]
  },
  {
   "cell_type": "code",
   "execution_count": 25,
   "metadata": {},
   "outputs": [
    {
     "name": "stdout",
     "output_type": "stream",
     "text": [
      "2.22 s ± 12.4 ms per loop (mean ± std. dev. of 7 runs, 1 loop each)\n"
     ]
    }
   ],
   "source": [
    "%%timeit\n",
    "\n",
    "# Pythonic:\n",
    "pz1 = numpy.empty(len(pt))\n",
    "for i in range(len(pt)):\n",
    "    pz1[i] = pt[i] * numpy.sinh(eta[i])"
   ]
  },
  {
   "cell_type": "code",
   "execution_count": 26,
   "metadata": {},
   "outputs": [
    {
     "name": "stdout",
     "output_type": "stream",
     "text": [
      "22.6 ms ± 1.73 ms per loop (mean ± std. dev. of 7 runs, 10 loops each)\n"
     ]
    }
   ],
   "source": [
    "%%timeit\n",
    "\n",
    "# Numpythonic:\n",
    "pz2 = pt * numpy.sinh(eta)"
   ]
  },
  {
   "cell_type": "markdown",
   "metadata": {},
   "source": [
    "### Numpy is for simple operations on many elements\n",
    "\n",
    "<br>\n",
    "\n",
    "| Pythonic | Numpythonic |\n",
    "|:----|:----|\n",
    "| **_O(n)_** Python bytecode instructions | **_O(1)_** Python bytecode instructions |\n",
    "| **_O(n)_** type-checks | **_O(1)_** type-checks |\n",
    "| **_O(n)_** interpreter locks | **_O(1)_** interpreter locks |\n",
    "| <br> | **_O(n)_** statically typed, native bytecode operations |\n",
    "\n",
    "<br>\n",
    "\n",
    "In other words, Numpy performs a <b>S</b>ingle (Python) <b>I</b>nstruction on <b>M</b>ultiple <b>D</b>ata.\n",
    "\n",
    "(Conceptually similar to SIMD, the program flow of GPUs.)\n",
    "\n",
    "<br><br>\n",
    "\n",
    "Do all your dataset organization and bookkeeping in high-level Python and your fast math in compiled code."
   ]
  },
  {
   "cell_type": "code",
   "execution_count": 43,
   "metadata": {},
   "outputs": [
    {
     "name": "stdout",
     "output_type": "stream",
     "text": [
      "\n",
      "\n",
      "Names of arrays in this dict:\n",
      "['Type', 'Run', 'Event', 'E1', 'px1', 'py1', 'pz1', 'pt1', 'eta1', 'phi1', 'Q1', 'E2', 'px2', 'py2', 'pz2', 'pt2', 'eta2', 'phi2', 'Q2', 'M']\n",
      "\n",
      "\n",
      "Example array:\n",
      " [82.20186639 62.34492895 62.34492895 ... 81.27013558 81.27013558\n",
      " 81.56621735]\n"
     ]
    }
   ],
   "source": [
    "# Physics data!\n",
    "\n",
    "import uproot\n",
    "arrays = (uproot.open(\"http://scikit-hep.org/uproot/examples/Zmumu.root\")[\"events\"]\n",
    "                .arrays(\"*\", namedecode=\"utf-8\"))\n",
    "\n",
    "print(\"\\n\\nNames of arrays in this dict:\")\n",
    "print(list(arrays))\n",
    "\n",
    "for n in arrays:\n",
    "    exec(f\"{n} = arrays['{n}']\")\n",
    "\n",
    "print(\"\\n\\nExample array:\\n\", E1)"
   ]
  },
  {
   "cell_type": "code",
   "execution_count": 45,
   "metadata": {},
   "outputs": [
    {
     "name": "stdout",
     "output_type": "stream",
     "text": [
      "\n",
      "\n",
      "Single mass: 82.46269155513643\n",
      "\n",
      "\n",
      "All masses:\n",
      " [82.46269156 83.62620401 83.30846467 ... 95.96547966 96.49594382\n",
      " 96.65672765]\n"
     ]
    }
   ],
   "source": [
    "# For f(A[i], B[i]) → C[i] operations, the scalar code is identical to the array code.\n",
    "\n",
    "# Does this function take numbers or arrays of numbers?\n",
    "def compute_mass(E1, E2, px1, px2, py1, py2, pz1, pz2):\n",
    "    return numpy.sqrt((E1 + E2)**2 - (px1 + px2)**2 - (py1 + py2)**2 - (pz1 + pz2)**2)\n",
    "\n",
    "# Pass a number for each argument:\n",
    "print(\"\\n\\nSingle mass:\", compute_mass(E1[0], E2[0], px1[0], px2[0], py1[0], py2[0], pz1[0], pz2[0]))\n",
    "\n",
    "# Pass an array for each argument:\n",
    "print(\"\\n\\nAll masses:\\n\", compute_mass(E1, E2, px1, px2, py1, py2, pz1, pz2))"
   ]
  },
  {
   "cell_type": "code",
   "execution_count": 54,
   "metadata": {},
   "outputs": [
    {
     "data": {
      "image/png": "[encoded data removed]",
      "text/plain": [
       "<Figure size 432x288 with 1 Axes>"
      ]
     },
     "metadata": {
      "needs_background": "light"
     },
     "output_type": "display_data"
    }
   ],
   "source": [
    "masses = compute_mass(E1, E2, px1, px2, py1, py2, pz1, pz2)\n",
    "\n",
    "import matplotlib.pyplot\n",
    "matplotlib.pyplot.hist(masses, bins=100);"
   ]
  },
  {
   "cell_type": "code",
   "execution_count": 58,
   "metadata": {},
   "outputs": [
    {
     "data": {
      "image/png": "[encoded data removed]",
      "text/plain": [
       "<Figure size 432x288 with 1 Axes>"
      ]
     },
     "metadata": {
      "needs_background": "light"
     },
     "output_type": "display_data"
    }
   ],
   "source": [
    "# Most of the time, you do a single operation on all data, plot the result, then do the next operation.\n",
    "\n",
    "good_masses = masses[Q1 != Q2]\n",
    "matplotlib.pyplot.hist(good_masses, bins=100);\n",
    "\n",
    "bad_masses = masses[Q1 == Q2]\n",
    "matplotlib.pyplot.hist(bad_masses, bins=100);"
   ]
  },
  {
   "cell_type": "markdown",
   "metadata": {},
   "source": [
    "<br>\n",
    "\n",
    "This style of programming is found _primarily_ in data analysis languages, pioneered by APL.\n",
    "\n",
    "<br>\n",
    "\n",
    "<center><img src=\"img/apl-timeline.png\" width=\"80%\"></center>"
   ]
  },
  {
   "cell_type": "markdown",
   "metadata": {},
   "source": [
    "### APL discovered the mistake of being too concise\n",
    "\n",
    "<img src=\"img/tshirt.jpg\" width=\"20%\" align=\"right\">\n",
    "\n",
    "Conway's Game of Life is one line of APL code:\n",
    "\n",
    "```\n",
    "life ← {↑1　⍵∨.∧3　4=+/,¯1　0　1∘.⊖¯1　0　1∘.⌽⊂⍵}\n",
    "```\n",
    "\n",
    "\"Map\" is implicit, \"reduce\" is a slash, functions are symbols.\n",
    "\n",
    "<center><img src=\"img/apl-keyboard.jpg\" width=\"40%\"></center>"
   ]
  },
  {
   "cell_type": "markdown",
   "metadata": {},
   "source": [
    "<br><br><br>\n",
    "\n",
    "### Numpy (generations later) strikes a balance: the right amount of conciseness\n",
    "\n",
    "| APL | <br> | Numpy |\n",
    "|:---:|:----:|:-----:|\n",
    "| <tt>ι4</tt> | <br> | <tt>numpy.arange(4)</tt> |\n",
    "| <tt>(3+ι4)</tt> | <br> | <tt>numpy.arange(4) + 3</tt> |\n",
    "| <tt>+/(3+ι4)</tt> | <br> | <tt>(numpy.arange(4) + 3).sum()</tt> |\n",
    "| <tt>m ← +/(3+ι4)</tt> | <br> | <tt>m = (numpy.arange(4) + 3).sum()</tt> |\n",
    "\n",
    "<br><br><br>"
   ]
  },
  {
   "cell_type": "code",
   "execution_count": 60,
   "metadata": {},
   "outputs": [],
   "source": [
    "# APL game of life:\n",
    "# life ← {↑1　⍵∨.∧3　4=+/,¯1　0　1∘.⊖¯1　0　1∘.⌽⊂⍵}\n",
    "\n",
    "# Numpy game of life:\n",
    "world = (numpy.random.uniform(0, 1, (20, 100)) < 0.3)                   # fill 30% of 20×100 grid\n",
    "\n",
    "def step(world):\n",
    "    \"Step the world forward.\"\n",
    "    neighbors = numpy.zeros(world.shape, dtype=int)                     # initialize neighors count\n",
    "    for dir1 in -1, 0, 1:\n",
    "        for dir2 in -1, 0, 1:\n",
    "            if not (dir1 == 0 and dir2 == 0):                           # add each rolled direction\n",
    "                neighbors += numpy.roll(numpy.roll(world, dir1, axis=0), dir2, axis=1)\n",
    "\n",
    "    survivors = ((world == 1) & (neighbors > 1) & (neighbors < 4))      # old cells that survive\n",
    "    births    = ((world == 0) & (neighbors == 3))                       # new cells that are born\n",
    "\n",
    "    return (births | survivors).astype(world.dtype)                     # union as booleans\n",
    "\n",
    "def show(world):\n",
    "    \"Print the world.\"\n",
    "    print(\"\\n\".join(\"|\" + \"\".join(\"*\" if y else \" \" for y in x) + \"|\" for x in world))"
   ]
  },
  {
   "cell_type": "code",
   "execution_count": 146,
   "metadata": {},
   "outputs": [
    {
     "name": "stdout",
     "output_type": "stream",
     "text": [
      "|  *           ** ***          * *       ***                                         **     ***      |\n",
      "| *            **  * *          *        *    *                                       **    ** *     |\n",
      "| ***           *           *            *  **             *                  *        ****          |\n",
      "|  **            *         * *            *               **                  *          *           |\n",
      "|                                                        ** *                 *          *     *     |\n",
      "|                         *   *   **             *                                           *  *    |\n",
      "|                                 **             *        * *             ***                * **    |\n",
      "|       *             **   * *                             **    **                         *  **    |\n",
      "|     **              **    *             **     *       * **     *                                  |\n",
      "|     ****   **                                  *        **   * *                         **        |\n",
      "|      ***   **                                                * *                         **        |\n",
      "|        **                 *                                                              **        |\n",
      "|    ****                  ***     ***       ** *                                                    |\n",
      "| *     *      *          ** *               *  *                                                    |\n",
      "|*   * **   *            *                    ***                                                    |\n",
      "| * * *     *   **       *                                                                           |\n",
      "|* **       ******        *     *                                                         *         *|\n",
      "|* **            **             *                                                         *    *   **|\n",
      "|** ****    ***  **                                                                       *   **    *|\n",
      "| ******    **  *  **                     **                                          **     *  *    |\n"
     ]
    }
   ],
   "source": [
    "world = step(world)\n",
    "show(world)"
   ]
  }
 ],
 "metadata": {
  "kernelspec": {
   "display_name": "Python 3",
   "language": "python",
   "name": "python3"
  },
  "language_info": {
   "codemirror_mode": {
    "name": "ipython",
    "version": 3
   },
   "file_extension": ".py",
   "mimetype": "text/x-python",
   "name": "python",
   "nbconvert_exporter": "python",
   "pygments_lexer": "ipython3",
   "version": "3.7.2"
  }
 },
 "nbformat": 4,
 "nbformat_minor": 2
}
