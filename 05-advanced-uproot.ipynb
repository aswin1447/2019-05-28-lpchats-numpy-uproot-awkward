{
 "cells": [
  {
   "cell_type": "markdown",
   "metadata": {},
   "source": [
    "<br><br><br><br><br>\n",
    "\n",
    "# Advanced Uproot\n",
    "\n",
    "<br><br><br><br><br>"
   ]
  },
  {
   "cell_type": "markdown",
   "metadata": {},
   "source": [
    "<br><br>\n",
    "\n",
    "## Cache management\n",
    "\n",
    "<br>\n",
    "\n",
    "**Uproot does not automatically cache arrays.** (Remote backends cache raw bytes, but that's different.)\n",
    "\n",
    "  * **Disadvantage:** unless you opt-into caching, uproot reads and decompresses the data every time you ask for it.\n",
    "  * **Advantage:** you control how much memory your process uses.\n",
    "\n",
    "<br>\n",
    "\n",
    "In this sense and others, uproot is a _low-level_ library.\n",
    "\n",
    "<br><br>"
   ]
  },
  {
   "cell_type": "code",
   "execution_count": 7,
   "metadata": {},
   "outputs": [
    {
     "data": {
      "text/plain": [
       "{'AAGUS3fQmKsR56dpAQAAf77v;events;Type;asstring();0-2304': <ObjectArray [b'GT' b'TT' b'GT' ... b'TT' b'GT' b'GG'] at 0x7f56543036d8>,\n",
       " 'AAGUS3fQmKsR56dpAQAAf77v;events;Run;asdtype(Bi4(),Li4());0-2304': array([148031, 148031, 148031, ..., 148029, 148029, 148029], dtype=int32),\n",
       " 'AAGUS3fQmKsR56dpAQAAf77v;events;Event;asdtype(Bi4(),Li4());0-2304': array([10507008, 10507008, 10507008, ..., 99991333, 99991333, 99991333],\n",
       "       dtype=int32),\n",
       " 'AAGUS3fQmKsR56dpAQAAf77v;events;E1;asdtype(Bf8(),Lf8());0-2304': array([82.20186639, 62.34492895, 62.34492895, ..., 81.27013558,\n",
       "        81.27013558, 81.56621735]),\n",
       " 'AAGUS3fQmKsR56dpAQAAf77v;events;px1;asdtype(Bf8(),Lf8());0-2304': array([-41.19528764,  35.11804977,  35.11804977, ...,  32.37749196,\n",
       "         32.37749196,  32.48539387]),\n",
       " 'AAGUS3fQmKsR56dpAQAAf77v;events;py1;asdtype(Bf8(),Lf8());0-2304': array([ 17.4332439 , -16.57036233, -16.57036233, ...,   1.19940578,\n",
       "          1.19940578,   1.2013503 ]),\n",
       " 'AAGUS3fQmKsR56dpAQAAf77v;events;pz1;asdtype(Bf8(),Lf8());0-2304': array([-68.96496181, -48.77524654, -48.77524654, ..., -74.53243061,\n",
       "        -74.53243061, -74.80837247]),\n",
       " 'AAGUS3fQmKsR56dpAQAAf77v;events;pt1;asdtype(Bf8(),Lf8());0-2304': array([44.7322, 38.8311, 38.8311, ..., 32.3997, 32.3997, 32.3997]),\n",
       " 'AAGUS3fQmKsR56dpAQAAf77v;events;eta1;asdtype(Bf8(),Lf8());0-2304': array([-1.21769, -1.05139, -1.05139, ..., -1.57044, -1.57044, -1.57044]),\n",
       " 'AAGUS3fQmKsR56dpAQAAf77v;events;phi1;asdtype(Bf8(),Lf8());0-2304': array([ 2.74126  , -0.440873 , -0.440873 , ...,  0.0370275,  0.0370275,\n",
       "         0.0370275]),\n",
       " 'AAGUS3fQmKsR56dpAQAAf77v;events;Q1;asdtype(Bi4(),Li4());0-2304': array([ 1, -1, -1, ...,  1,  1,  1], dtype=int32),\n",
       " 'AAGUS3fQmKsR56dpAQAAf77v;events;E2;asdtype(Bf8(),Lf8());0-2304': array([ 60.62187459,  82.20186639,  81.58277833, ..., 168.78012134,\n",
       "        170.58313243, 170.58313243]),\n",
       " 'AAGUS3fQmKsR56dpAQAAf77v;events;px2;asdtype(Bf8(),Lf8());0-2304': array([ 34.14443725, -41.19528764, -40.88332344, ..., -68.04191497,\n",
       "        -68.79413604, -68.79413604]),\n",
       " 'AAGUS3fQmKsR56dpAQAAf77v;events;py2;asdtype(Bf8(),Lf8());0-2304': array([-16.11952457,  17.4332439 ,  17.29929704, ..., -26.10584737,\n",
       "        -26.39840043, -26.39840043]),\n",
       " 'AAGUS3fQmKsR56dpAQAAf77v;events;pz2;asdtype(Bf8(),Lf8());0-2304': array([ -47.42698439,  -68.96496181,  -68.44725519, ..., -152.2350181 ,\n",
       "        -153.84760383, -153.84760383]),\n",
       " 'AAGUS3fQmKsR56dpAQAAf77v;events;pt2;asdtype(Bf8(),Lf8());0-2304': array([38.8311, 44.7322, 44.7322, ..., 72.8781, 72.8781, 72.8781]),\n",
       " 'AAGUS3fQmKsR56dpAQAAf77v;events;eta2;asdtype(Bf8(),Lf8());0-2304': array([-1.05139, -1.21769, -1.21769, ..., -1.4827 , -1.4827 , -1.4827 ]),\n",
       " 'AAGUS3fQmKsR56dpAQAAf77v;events;phi2;asdtype(Bf8(),Lf8());0-2304': array([-0.440873,  2.74126 ,  2.74126 , ..., -2.77524 , -2.77524 ,\n",
       "        -2.77524 ]),\n",
       " 'AAGUS3fQmKsR56dpAQAAf77v;events;Q2;asdtype(Bi4(),Li4());0-2304': array([-1,  1,  1, ..., -1, -1, -1], dtype=int32),\n",
       " 'AAGUS3fQmKsR56dpAQAAf77v;events;M;asdtype(Bf8(),Lf8());0-2304': array([82.46269156, 83.62620401, 83.30846467, ..., 95.96547966,\n",
       "        96.49594381, 96.65672765])}"
      ]
     },
     "execution_count": 7,
     "metadata": {},
     "output_type": "execute_result"
    }
   ],
   "source": [
    "import uproot\n",
    "\n",
    "# any dict-like object may be used as a cache\n",
    "cache = {}\n",
    "\n",
    "arrays = uproot.open(\"data/Zmumu.root\")[\"events\"].arrays(\"*\", cache=cache)\n",
    "\n",
    "# cache contains UUID;treename;branchname;interpretation;entryrange → arrays\n",
    "cache"
   ]
  },
  {
   "cell_type": "code",
   "execution_count": 11,
   "metadata": {},
   "outputs": [
    {
     "data": {
      "text/plain": [
       "{b'Type': <ObjectArray [b'GT' b'TT' b'GT' ... b'TT' b'GT' b'GG'] at 0x7f56680889b0>,\n",
       " b'Run': array([148031, 148031, 148031, ..., 148029, 148029, 148029], dtype=int32),\n",
       " b'Event': array([10507008, 10507008, 10507008, ..., 99991333, 99991333, 99991333],\n",
       "       dtype=int32),\n",
       " b'E1': array([82.20186639, 62.34492895, 62.34492895, ..., 81.27013558,\n",
       "        81.27013558, 81.56621735]),\n",
       " b'px1': array([-41.19528764,  35.11804977,  35.11804977, ...,  32.37749196,\n",
       "         32.37749196,  32.48539387]),\n",
       " b'py1': array([ 17.4332439 , -16.57036233, -16.57036233, ...,   1.19940578,\n",
       "          1.19940578,   1.2013503 ]),\n",
       " b'pz1': array([-68.96496181, -48.77524654, -48.77524654, ..., -74.53243061,\n",
       "        -74.53243061, -74.80837247]),\n",
       " b'pt1': array([44.7322, 38.8311, 38.8311, ..., 32.3997, 32.3997, 32.3997]),\n",
       " b'eta1': array([-1.21769, -1.05139, -1.05139, ..., -1.57044, -1.57044, -1.57044]),\n",
       " b'phi1': array([ 2.74126  , -0.440873 , -0.440873 , ...,  0.0370275,  0.0370275,\n",
       "         0.0370275]),\n",
       " b'Q1': array([ 1, -1, -1, ...,  1,  1,  1], dtype=int32),\n",
       " b'E2': array([ 60.62187459,  82.20186639,  81.58277833, ..., 168.78012134,\n",
       "        170.58313243, 170.58313243]),\n",
       " b'px2': array([ 34.14443725, -41.19528764, -40.88332344, ..., -68.04191497,\n",
       "        -68.79413604, -68.79413604]),\n",
       " b'py2': array([-16.11952457,  17.4332439 ,  17.29929704, ..., -26.10584737,\n",
       "        -26.39840043, -26.39840043]),\n",
       " b'pz2': array([ -47.42698439,  -68.96496181,  -68.44725519, ..., -152.2350181 ,\n",
       "        -153.84760383, -153.84760383]),\n",
       " b'pt2': array([38.8311, 44.7322, 44.7322, ..., 72.8781, 72.8781, 72.8781]),\n",
       " b'eta2': array([-1.05139, -1.21769, -1.21769, ..., -1.4827 , -1.4827 , -1.4827 ]),\n",
       " b'phi2': array([-0.440873,  2.74126 ,  2.74126 , ..., -2.77524 , -2.77524 ,\n",
       "        -2.77524 ]),\n",
       " b'Q2': array([-1,  1,  1, ..., -1, -1, -1], dtype=int32),\n",
       " b'M': array([82.46269156, 83.62620401, 83.30846467, ..., 95.96547966,\n",
       "        96.49594381, 96.65672765])}"
      ]
     },
     "execution_count": 11,
     "metadata": {},
     "output_type": "execute_result"
    }
   ],
   "source": [
    "# So that the next time you make this exact request, the arrays come from cache, not disk.\n",
    "\n",
    "arrays = uproot.open(\"data/Zmumu.root\")[\"events\"].arrays(\"*\", cache=cache)\n",
    "arrays"
   ]
  },
  {
   "cell_type": "code",
   "execution_count": 18,
   "metadata": {},
   "outputs": [
    {
     "data": {
      "text/plain": [
       "['AAGUS3fQmKsR56dpAQAAf77v;events;pz2;asdtype(Bf8(),Lf8());0-2304',\n",
       " 'AAGUS3fQmKsR56dpAQAAf77v;events;pt2;asdtype(Bf8(),Lf8());0-2304',\n",
       " 'AAGUS3fQmKsR56dpAQAAf77v;events;eta2;asdtype(Bf8(),Lf8());0-2304',\n",
       " 'AAGUS3fQmKsR56dpAQAAf77v;events;phi2;asdtype(Bf8(),Lf8());0-2304',\n",
       " 'AAGUS3fQmKsR56dpAQAAf77v;events;Q2;asdtype(Bi4(),Li4());0-2304',\n",
       " 'AAGUS3fQmKsR56dpAQAAf77v;events;M;asdtype(Bf8(),Lf8());0-2304']"
      ]
     },
     "execution_count": 18,
     "metadata": {},
     "output_type": "execute_result"
    }
   ],
   "source": [
    "# Using a dict as a cache keeps everything in memory forever (until you call dict.clear()).\n",
    "\n",
    "# More realistically, you should use an ArrayCache with a memory upper limit.\n",
    "\n",
    "cache = uproot.cache.ArrayCache(100*1024)   # 100*1024 bytes is 100 kB\n",
    "\n",
    "arrays = uproot.open(\"data/Zmumu.root\")[\"events\"].arrays(\"*\", cache=cache)\n",
    "\n",
    "# Now we only have the last ones that fit into cache.\n",
    "list(cache.keys())"
   ]
  },
  {
   "cell_type": "markdown",
   "metadata": {},
   "source": [
    "<br><br><br><br>\n",
    "\n",
    "**Question:** couldn't you manage arrays in memory yourself?\n",
    "\n",
    "Yes, but inserting `cache=whatever` into your function calls minimally changes your analysis script, which avoids cluttering it up with technical details.\n",
    "\n",
    "<br><br><br><br>"
   ]
  },
  {
   "cell_type": "code",
   "execution_count": 34,
   "metadata": {},
   "outputs": [
    {
     "data": {
      "text/plain": [
       "asdtype('>f8')"
      ]
     },
     "execution_count": 34,
     "metadata": {},
     "output_type": "execute_result"
    }
   ],
   "source": [
    "# To see the caching in action, let's overload an interpretation so that it prints when used.\n",
    "\n",
    "class CustomAsDtype(uproot.asdtype):\n",
    "    @property\n",
    "    def identifier(self):\n",
    "        out = super(CustomAsDtype, self).identifier\n",
    "        print(out, \"identifier\")\n",
    "        return out\n",
    "    def fromroot(self, *args):\n",
    "        print(self.identifier, \"fromroot (first step in interpreting data from a ROOT file)\")\n",
    "        return super(CustomAsDtype, self).fromroot(*args)\n",
    "    def finalize(self, *args):\n",
    "        print(self.identifier, \"finalize (puts finishing touches on array and returns it)\")\n",
    "        return super(CustomAsDtype, self).finalize(*args)\n",
    "\n",
    "custom_asdtype = uproot.open(\"data/Zmumu.root\")[\"events\"][\"E1\"].interpretation\n",
    "custom_asdtype.__class__ = CustomAsDtype\n",
    "custom_asdtype"
   ]
  },
  {
   "cell_type": "code",
   "execution_count": 35,
   "metadata": {},
   "outputs": [
    {
     "name": "stdout",
     "output_type": "stream",
     "text": [
      "asdtype(Bf8(),Lf8()) identifier\n",
      "asdtype(Bf8(),Lf8()) identifier\n",
      "asdtype(Bf8(),Lf8()) fromroot (first step in interpreting data from a ROOT file)\n",
      "asdtype(Bf8(),Lf8()) identifier\n",
      "asdtype(Bf8(),Lf8()) finalize (puts finishing touches on array and returns it)\n"
     ]
    }
   ],
   "source": [
    "# Exercise: modify this cell so that evaluating it draws from the cache, instead of reading\n",
    "# fromroot and finalizing the array.\n",
    "\n",
    "# You should see it print only one message: identifier.\n",
    "\n",
    "cache = {}\n",
    "\n",
    "arrays = uproot.open(\"data/Zmumu.root\")[\"events\"][\"E1\"].array(custom_asdtype, cache=cache)"
   ]
  },
  {
   "cell_type": "markdown",
   "metadata": {},
   "source": [
    "<br>\n",
    "\n",
    "## Interpretations\n",
    "\n",
    "<br>\n",
    "\n",
    "Uproot performs two tasks:\n",
    "\n",
    "   * it recognizes class objects like TH1F and TTree, using the latter to navigate to raw physics data (in TBaskets)\n",
    "   * it provides tools to interpret the raw physics data however is needed.\n",
    "\n",
    "Most users don't mess with the default interpretations, but it's worth peeking inside to see how it works. Uproot provides the tools to investigate the TBasket data deeply.\n",
    "\n",
    "<br>\n",
    "\n",
    "This is another sense in which uproot is a _low-level_ library.\n",
    "\n",
    "<br>"
   ]
  },
  {
   "cell_type": "code",
   "execution_count": 42,
   "metadata": {},
   "outputs": [
    {
     "name": "stdout",
     "output_type": "stream",
     "text": [
      "\n",
      "branch.title = b'Type/C'\n",
      "\n",
      "branch.interpretation = asstring()\n",
      "\n",
      "uproot.asdebug = asjagged(asdtype('uint8'))\n",
      "\n",
      "branch.array() = [b'GT' b'TT' b'GT' ... b'TT' b'GT' b'GG']\n",
      "\n",
      "branch.array(uproot.asdebug) = [[2 71 84] [2 84 84] [2 71 84] ... [2 84 84] [2 71 84] [2 71 71]]\n"
     ]
    }
   ],
   "source": [
    "branch = uproot.open(\"data/Zmumu.root\")[\"events\"][\"Type\"]\n",
    "\n",
    "# The default interpretation for a /C branch is \"asstring.\"\n",
    "\n",
    "# But if we interpret it asjagged(asdtype('uint8')), we can see raw bytes, separated by event.\n",
    "\n",
    "# Can you see what those bytes mean?\n",
    "\n",
    "print(f\"\\nbranch.title = {branch.title}\")\n",
    "print(f\"\\nbranch.interpretation = {branch.interpretation}\")\n",
    "print(f\"\\nuproot.asdebug = {uproot.asdebug}\")\n",
    "print(f\"\\nbranch.array() = {branch.array()}\")\n",
    "print(f\"\\nbranch.array(uproot.asdebug) = {branch.array(uproot.asdebug)}\")"
   ]
  },
  {
   "cell_type": "code",
   "execution_count": 76,
   "metadata": {},
   "outputs": [
    {
     "name": "stdout",
     "output_type": "stream",
     "text": [
      "\n",
      "branch.interpretation = asjagged(asobj(<uproot_methods.classes.TLorentzVector.Methods>), 10)\n",
      "\n",
      "branch.interpretation.content.content.content.fromdtype =\n",
      "        dtype([(' fBits', '>u8'), (' fUniqueID', '>u8'), (' fBits2', '>u8'), (' fUniqueID2', '>u8'), ('fX', '>f8'), ('fY', '>f8'), ('fZ', '>f8'), ('fE', '>f8')])\n",
      "\n",
      "branch.array(entrystop=1)[0] = [TLorentzVector(-52.899, -11.655, -8.1608, 54.779) TLorentzVector(37.738, 0.69347, -11.308, 39.402)]\n",
      "\n"
     ]
    },
    {
     "data": {
      "text/html": [
       "<div>\n",
       "<style scoped>\n",
       "    .dataframe tbody tr th:only-of-type {\n",
       "        vertical-align: middle;\n",
       "    }\n",
       "\n",
       "    .dataframe tbody tr th {\n",
       "        vertical-align: top;\n",
       "    }\n",
       "\n",
       "    .dataframe thead th {\n",
       "        text-align: right;\n",
       "    }\n",
       "</style>\n",
       "<table border=\"1\" class=\"dataframe\">\n",
       "  <thead>\n",
       "    <tr style=\"text-align: right;\">\n",
       "      <th></th>\n",
       "      <th>fBits</th>\n",
       "      <th>fUniqueID</th>\n",
       "      <th>fBits2</th>\n",
       "      <th>fUniqueID2</th>\n",
       "      <th>fX</th>\n",
       "      <th>fY</th>\n",
       "      <th>fZ</th>\n",
       "      <th>fE</th>\n",
       "    </tr>\n",
       "  </thead>\n",
       "  <tbody>\n",
       "    <tr>\n",
       "      <th>0</th>\n",
       "      <td>4611686276125687809</td>\n",
       "      <td>33554432</td>\n",
       "      <td>4611686173046407169</td>\n",
       "      <td>33554432</td>\n",
       "      <td>-52.899456</td>\n",
       "      <td>-11.654672</td>\n",
       "      <td>-8.160793</td>\n",
       "      <td>54.779499</td>\n",
       "    </tr>\n",
       "    <tr>\n",
       "      <th>1</th>\n",
       "      <td>4611686276125687809</td>\n",
       "      <td>33554432</td>\n",
       "      <td>4611686173046407169</td>\n",
       "      <td>33554432</td>\n",
       "      <td>37.737782</td>\n",
       "      <td>0.693474</td>\n",
       "      <td>-11.307582</td>\n",
       "      <td>39.401695</td>\n",
       "    </tr>\n",
       "  </tbody>\n",
       "</table>\n",
       "</div>"
      ],
      "text/plain": [
       "                 fBits   fUniqueID               fBits2   fUniqueID2  \\\n",
       "0  4611686276125687809    33554432  4611686173046407169     33554432   \n",
       "1  4611686276125687809    33554432  4611686173046407169     33554432   \n",
       "\n",
       "          fX         fY         fZ         fE  \n",
       "0 -52.899456 -11.654672  -8.160793  54.779499  \n",
       "1  37.737782   0.693474 -11.307582  39.401695  "
      ]
     },
     "execution_count": 76,
     "metadata": {},
     "output_type": "execute_result"
    }
   ],
   "source": [
    "branch = uproot.open(\"data/HZZ-objects.root\")[\"events\"][\"muonp4\"]\n",
    "\n",
    "print(f\"\\nbranch.interpretation = {branch.interpretation}\")\n",
    "print(f\"\"\"\\nbranch.interpretation.content.content.content.fromdtype =\n",
    "        {repr(branch.interpretation.content.content.content.fromdtype)}\"\"\")\n",
    "print(f\"\\nbranch.array(entrystop=1)[0] = {branch.array(entrystop=1)[0]}\\n\")\n",
    "\n",
    "import pandas\n",
    "pandas.DataFrame(branch.array(uproot.asjagged(uproot.asdtype(\n",
    "    branch.interpretation.content.content.content.fromdtype), skipbytes=10), entrystop=1)[0])"
   ]
  },
  {
   "cell_type": "markdown",
   "metadata": {},
   "source": [
    "<br>\n",
    "\n",
    "This TLorentzVector has structure:\n",
    "\n",
    "```c++\n",
    "// 10 bytes of std::vector header...\n",
    "struct {\n",
    "    unsigned long fBits;\n",
    "    unsigned long fUniqueID;\n",
    "\n",
    "    unsigned long fBits2;\n",
    "    unsigned long fUniqueID2;\n",
    "    double fX;\n",
    "    double fY;\n",
    "    double fZ;\n",
    "\n",
    "    double fE;\n",
    "};\n",
    "```\n",
    "\n",
    "All of this was derived from the streamers, but we can inspect it.\n",
    "\n",
    "<br>"
   ]
  },
  {
   "cell_type": "markdown",
   "metadata": {},
   "source": [
    "<br>\n",
    "\n",
    "This TLorentzVector has structure:\n",
    "\n",
    "```c++\n",
    "// 10 bytes of std::vector header...\n",
    "struct {\n",
    "    unsigned long fBits;          // TLorentzVector's TObject superclass\n",
    "    unsigned long fUniqueID;\n",
    "    struct {\n",
    "        unsigned long fBits;      // TVector3's TObject superclass\n",
    "        unsigned long fUniqueID;\n",
    "        double fX;\n",
    "        double fY;\n",
    "        double fZ;\n",
    "    }\n",
    "    double fE;\n",
    "};\n",
    "```\n",
    "\n",
    "All of this was derived from the streamers, but we can inspect it.\n",
    "\n",
    "<br>"
   ]
  },
  {
   "cell_type": "code",
   "execution_count": 88,
   "metadata": {},
   "outputs": [
    {
     "name": "stdout",
     "output_type": "stream",
     "text": [
      "class TVector3(uproot_methods.classes.TVector3.Methods, TObject):\n",
      "    _methods = uproot_methods.classes.TVector3.Methods\n",
      "    _bases = [TObject]\n",
      "    @classmethod\n",
      "    def _recarray(cls):\n",
      "        out = []\n",
      "        out.append((' cnt', 'u4'))\n",
      "        out.append((' vers', 'u2'))\n",
      "        for base in cls._bases:\n",
      "            out.extend(base._recarray())\n",
      "        out.append(('fX', numpy.dtype('>f8')))\n",
      "        out.append(('fY', numpy.dtype('>f8')))\n",
      "        out.append(('fZ', numpy.dtype('>f8')))\n",
      "        return out\n",
      "    _fields = ['fX', 'fY', 'fZ']\n",
      "    _classname = b'TVector3'\n",
      "    _versions = versions\n",
      "    _classversion = 3\n",
      "    @classmethod\n",
      "    def _readinto(cls, self, source, cursor, context, parent, asclass=None):\n",
      "        start, cnt, classversion = _startcheck(source, cursor)\n",
      "        if cls._classversion != classversion:\n",
      "            cursor.index = start\n",
      "            if classversion in cls._versions:\n",
      "                return cls._versions[classversion]._readinto(self, source, cursor, context, parent)\n",
      "            else:\n",
      "                return Undefined.read(source, cursor, context, parent, cls.__name__)\n",
      "        TObject._readinto(self, source, cursor, context, parent)\n",
      "        self._fX, self._fY, self._fZ = cursor.fields(source, cls._format1)\n",
      "        if self.__class__.__name__ == cls.__name__:\n",
      "            self.__class__ = cls._versions[classversion]\n",
      "        try:\n",
      "            _endcheck(start, cursor, cnt)\n",
      "        except ValueError:\n",
      "            cursor.index = start\n",
      "            return Undefined.read(source, cursor, context, parent, cls.__name__)\n",
      "        return self\n",
      "    _format1 = struct.Struct('>ddd')\n"
     ]
    }
   ],
   "source": [
    "# This Python code was automatically generated from streamer info in the ROOT file:\n",
    "print(uproot.open(\"data/HZZ-objects.root\")._context.classes[\"TVector3\"]._pycode)"
   ]
  },
  {
   "cell_type": "code",
   "execution_count": 84,
   "metadata": {},
   "outputs": [
    {
     "name": "stdout",
     "output_type": "stream",
     "text": [
      "<JaggedArrayMethods [[TLorentzVector(-52.899, -11.655, -8.1608, 54.779) TLorentzVector(37.738, 0.69347, -11.308, 39.402)] [TLorentzVector(-0.81646, -24.404, 20.2, 31.69)] [TLorentzVector(48.988, -21.723, 11.168, 54.74) TLorentzVector(0.82757, 29.801, 36.965, 47.489)] ... [TLorentzVector(-29.757, -15.304, -52.664, 62.395)] [TLorentzVector(1.1419, 63.61, 162.18, 174.21)] [TLorentzVector(23.913, -35.665, 54.719, 69.556)]] at 0x7f5634fa2048>\n",
      "\n",
      "[' fBits', ' fUniqueID', ' fBits2', ' fUniqueID2', 'fX', 'fY', 'fZ', 'fE']\n",
      "\n",
      "[[-52.89945602416992 37.7377815246582] [-0.8164593577384949] [48.987831115722656 0.8275666832923889] ... [-29.756786346435547] [1.1418697834014893] [23.913206100463867]]\n",
      "\n",
      "[[-52.89945602416992 37.7377815246582] [-0.8164593577384949] [48.987831115722656 0.8275666832923889] ... [-29.756786346435547] [1.1418697834014893] [23.913206100463867]]\n",
      "\n"
     ]
    }
   ],
   "source": [
    "array = uproot.open(\"data/HZZ-objects.root\")[\"events\"][\"muonp4\"].array()\n",
    "print(repr(array), end=\"\\n\\n\")\n",
    "\n",
    "print(array.columns, end=\"\\n\\n\")\n",
    "\n",
    "print(array[\"fX\"], end=\"\\n\\n\")    # get the x values directly as a Table column\n",
    "\n",
    "print(array.x, end=\"\\n\\n\")        # get the x values using a high-level Python method"
   ]
  },
  {
   "cell_type": "code",
   "execution_count": 94,
   "metadata": {},
   "outputs": [
    {
     "name": "stdout",
     "output_type": "stream",
     "text": [
      "\n",
      "myarray    = [TLorentzVector(1, 1, 1, 10) TLorentzVector(2, 2, 2, 10) TLorentzVector(3, 3, 3, 10)]\n",
      "\n",
      "myarray.pt = [ 2.  8. 18.]\n"
     ]
    }
   ],
   "source": [
    "# All of these high-level methods are defined in uproot-methods, not uproot.\n",
    "\n",
    "# Uproot itself is strictly about file I/O, so histogram-handling and kinematics are exiled here.\n",
    "\n",
    "import uproot_methods\n",
    "\n",
    "# You can create your own ROOT-inspired objects directly with uproot-methods...\n",
    "\n",
    "myarray = uproot_methods.TLorentzVectorArray([1, 2, 3], [1, 2, 3], [1, 2, 3], 10)\n",
    "print(f\"\\nmyarray    = {myarray}\")\n",
    "\n",
    "print(f\"\\nmyarray.pt = {myarray.pt**2}\")"
   ]
  },
  {
   "cell_type": "code",
   "execution_count": 105,
   "metadata": {},
   "outputs": [
    {
     "name": "stdout",
     "output_type": "stream",
     "text": [
      "\n",
      "myarray.content.contents['fX'] = array([1, 2, 3])\n",
      "\n",
      "myarray.content                = <Table [<Row 0> <Row 1> <Row 2>] at 0x7f5634fa2b38>\n",
      "\n",
      "myarray                        = <TLorentzVectorArray [TLorentzVector(1, 1, 1, 10) TLorentzVector(2, 2, 2, 10) TLorentzVector(3, 3, 3, 10)] at 0x7f5634fa2940>\n"
     ]
    }
   ],
   "source": [
    "# This is just a bunch of column arrays...\n",
    "print(f\"\\nmyarray.content.contents['fX'] = {repr(myarray.content.contents['fX'])}\")\n",
    "\n",
    "# Wrapped up as a table...\n",
    "print(f\"\\nmyarray.content                = {repr(myarray.content)}\")\n",
    "\n",
    "# With high-level physics methods on top of that.\n",
    "print(f\"\\nmyarray                        = {repr(myarray)}\")"
   ]
  }
 ],
 "metadata": {
  "kernelspec": {
   "display_name": "Python 3",
   "language": "python",
   "name": "python3"
  },
  "language_info": {
   "codemirror_mode": {
    "name": "ipython",
    "version": 3
   },
   "file_extension": ".py",
   "mimetype": "text/x-python",
   "name": "python",
   "nbconvert_exporter": "python",
   "pygments_lexer": "ipython3",
   "version": "3.7.2"
  }
 },
 "nbformat": 4,
 "nbformat_minor": 2
}
