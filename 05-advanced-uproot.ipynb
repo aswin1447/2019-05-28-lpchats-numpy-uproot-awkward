{
 "cells": [
  {
   "cell_type": "markdown",
   "metadata": {},
   "source": [
    "<br><br><br><br><br>\n",
    "\n",
    "# Advanced Uproot\n",
    "\n",
    "<br><br><br><br><br>"
   ]
  },
  {
   "cell_type": "markdown",
   "metadata": {},
   "source": [
    "<br><br>\n",
    "\n",
    "## Cache management\n",
    "\n",
    "<br>\n",
    "\n",
    "**Uproot does not automatically cache arrays.** (Remote backends cache raw bytes, but that's different.)\n",
    "\n",
    "  * **Disadvantage:** unless you opt-into caching, uproot reads and decompresses the data every time you ask for it.\n",
    "  * **Advantage:** you control how much memory your process uses.\n",
    "\n",
    "<br>\n",
    "\n",
    "In this sense and others, uproot is a _low-level_ library.\n",
    "\n",
    "<br><br>"
   ]
  },
  {
   "cell_type": "code",
   "execution_count": 7,
   "metadata": {},
   "outputs": [
    {
     "data": {
      "text/plain": [
       "{'AAGUS3fQmKsR56dpAQAAf77v;events;Type;asstring();0-2304': <ObjectArray [b'GT' b'TT' b'GT' ... b'TT' b'GT' b'GG'] at 0x7f56543036d8>,\n",
       " 'AAGUS3fQmKsR56dpAQAAf77v;events;Run;asdtype(Bi4(),Li4());0-2304': array([148031, 148031, 148031, ..., 148029, 148029, 148029], dtype=int32),\n",
       " 'AAGUS3fQmKsR56dpAQAAf77v;events;Event;asdtype(Bi4(),Li4());0-2304': array([10507008, 10507008, 10507008, ..., 99991333, 99991333, 99991333],\n",
       "       dtype=int32),\n",
       " 'AAGUS3fQmKsR56dpAQAAf77v;events;E1;asdtype(Bf8(),Lf8());0-2304': array([82.20186639, 62.34492895, 62.34492895, ..., 81.27013558,\n",
       "        81.27013558, 81.56621735]),\n",
       " 'AAGUS3fQmKsR56dpAQAAf77v;events;px1;asdtype(Bf8(),Lf8());0-2304': array([-41.19528764,  35.11804977,  35.11804977, ...,  32.37749196,\n",
       "         32.37749196,  32.48539387]),\n",
       " 'AAGUS3fQmKsR56dpAQAAf77v;events;py1;asdtype(Bf8(),Lf8());0-2304': array([ 17.4332439 , -16.57036233, -16.57036233, ...,   1.19940578,\n",
       "          1.19940578,   1.2013503 ]),\n",
       " 'AAGUS3fQmKsR56dpAQAAf77v;events;pz1;asdtype(Bf8(),Lf8());0-2304': array([-68.96496181, -48.77524654, -48.77524654, ..., -74.53243061,\n",
       "        -74.53243061, -74.80837247]),\n",
       " 'AAGUS3fQmKsR56dpAQAAf77v;events;pt1;asdtype(Bf8(),Lf8());0-2304': array([44.7322, 38.8311, 38.8311, ..., 32.3997, 32.3997, 32.3997]),\n",
       " 'AAGUS3fQmKsR56dpAQAAf77v;events;eta1;asdtype(Bf8(),Lf8());0-2304': array([-1.21769, -1.05139, -1.05139, ..., -1.57044, -1.57044, -1.57044]),\n",
       " 'AAGUS3fQmKsR56dpAQAAf77v;events;phi1;asdtype(Bf8(),Lf8());0-2304': array([ 2.74126  , -0.440873 , -0.440873 , ...,  0.0370275,  0.0370275,\n",
       "         0.0370275]),\n",
       " 'AAGUS3fQmKsR56dpAQAAf77v;events;Q1;asdtype(Bi4(),Li4());0-2304': array([ 1, -1, -1, ...,  1,  1,  1], dtype=int32),\n",
       " 'AAGUS3fQmKsR56dpAQAAf77v;events;E2;asdtype(Bf8(),Lf8());0-2304': array([ 60.62187459,  82.20186639,  81.58277833, ..., 168.78012134,\n",
       "        170.58313243, 170.58313243]),\n",
       " 'AAGUS3fQmKsR56dpAQAAf77v;events;px2;asdtype(Bf8(),Lf8());0-2304': array([ 34.14443725, -41.19528764, -40.88332344, ..., -68.04191497,\n",
       "        -68.79413604, -68.79413604]),\n",
       " 'AAGUS3fQmKsR56dpAQAAf77v;events;py2;asdtype(Bf8(),Lf8());0-2304': array([-16.11952457,  17.4332439 ,  17.29929704, ..., -26.10584737,\n",
       "        -26.39840043, -26.39840043]),\n",
       " 'AAGUS3fQmKsR56dpAQAAf77v;events;pz2;asdtype(Bf8(),Lf8());0-2304': array([ -47.42698439,  -68.96496181,  -68.44725519, ..., -152.2350181 ,\n",
       "        -153.84760383, -153.84760383]),\n",
       " 'AAGUS3fQmKsR56dpAQAAf77v;events;pt2;asdtype(Bf8(),Lf8());0-2304': array([38.8311, 44.7322, 44.7322, ..., 72.8781, 72.8781, 72.8781]),\n",
       " 'AAGUS3fQmKsR56dpAQAAf77v;events;eta2;asdtype(Bf8(),Lf8());0-2304': array([-1.05139, -1.21769, -1.21769, ..., -1.4827 , -1.4827 , -1.4827 ]),\n",
       " 'AAGUS3fQmKsR56dpAQAAf77v;events;phi2;asdtype(Bf8(),Lf8());0-2304': array([-0.440873,  2.74126 ,  2.74126 , ..., -2.77524 , -2.77524 ,\n",
       "        -2.77524 ]),\n",
       " 'AAGUS3fQmKsR56dpAQAAf77v;events;Q2;asdtype(Bi4(),Li4());0-2304': array([-1,  1,  1, ..., -1, -1, -1], dtype=int32),\n",
       " 'AAGUS3fQmKsR56dpAQAAf77v;events;M;asdtype(Bf8(),Lf8());0-2304': array([82.46269156, 83.62620401, 83.30846467, ..., 95.96547966,\n",
       "        96.49594381, 96.65672765])}"
      ]
     },
     "execution_count": 7,
     "metadata": {},
     "output_type": "execute_result"
    }
   ],
   "source": [
    "import uproot\n",
    "\n",
    "# any dict-like object may be used as a cache\n",
    "cache = {}\n",
    "\n",
    "arrays = uproot.open(\"data/Zmumu.root\")[\"events\"].arrays(\"*\", cache=cache)\n",
    "\n",
    "# cache contains UUID;treename;branchname;interpretation;entryrange → arrays\n",
    "cache"
   ]
  },
  {
   "cell_type": "code",
   "execution_count": 11,
   "metadata": {},
   "outputs": [
    {
     "data": {
      "text/plain": [
       "{b'Type': <ObjectArray [b'GT' b'TT' b'GT' ... b'TT' b'GT' b'GG'] at 0x7f56680889b0>,\n",
       " b'Run': array([148031, 148031, 148031, ..., 148029, 148029, 148029], dtype=int32),\n",
       " b'Event': array([10507008, 10507008, 10507008, ..., 99991333, 99991333, 99991333],\n",
       "       dtype=int32),\n",
       " b'E1': array([82.20186639, 62.34492895, 62.34492895, ..., 81.27013558,\n",
       "        81.27013558, 81.56621735]),\n",
       " b'px1': array([-41.19528764,  35.11804977,  35.11804977, ...,  32.37749196,\n",
       "         32.37749196,  32.48539387]),\n",
       " b'py1': array([ 17.4332439 , -16.57036233, -16.57036233, ...,   1.19940578,\n",
       "          1.19940578,   1.2013503 ]),\n",
       " b'pz1': array([-68.96496181, -48.77524654, -48.77524654, ..., -74.53243061,\n",
       "        -74.53243061, -74.80837247]),\n",
       " b'pt1': array([44.7322, 38.8311, 38.8311, ..., 32.3997, 32.3997, 32.3997]),\n",
       " b'eta1': array([-1.21769, -1.05139, -1.05139, ..., -1.57044, -1.57044, -1.57044]),\n",
       " b'phi1': array([ 2.74126  , -0.440873 , -0.440873 , ...,  0.0370275,  0.0370275,\n",
       "         0.0370275]),\n",
       " b'Q1': array([ 1, -1, -1, ...,  1,  1,  1], dtype=int32),\n",
       " b'E2': array([ 60.62187459,  82.20186639,  81.58277833, ..., 168.78012134,\n",
       "        170.58313243, 170.58313243]),\n",
       " b'px2': array([ 34.14443725, -41.19528764, -40.88332344, ..., -68.04191497,\n",
       "        -68.79413604, -68.79413604]),\n",
       " b'py2': array([-16.11952457,  17.4332439 ,  17.29929704, ..., -26.10584737,\n",
       "        -26.39840043, -26.39840043]),\n",
       " b'pz2': array([ -47.42698439,  -68.96496181,  -68.44725519, ..., -152.2350181 ,\n",
       "        -153.84760383, -153.84760383]),\n",
       " b'pt2': array([38.8311, 44.7322, 44.7322, ..., 72.8781, 72.8781, 72.8781]),\n",
       " b'eta2': array([-1.05139, -1.21769, -1.21769, ..., -1.4827 , -1.4827 , -1.4827 ]),\n",
       " b'phi2': array([-0.440873,  2.74126 ,  2.74126 , ..., -2.77524 , -2.77524 ,\n",
       "        -2.77524 ]),\n",
       " b'Q2': array([-1,  1,  1, ..., -1, -1, -1], dtype=int32),\n",
       " b'M': array([82.46269156, 83.62620401, 83.30846467, ..., 95.96547966,\n",
       "        96.49594381, 96.65672765])}"
      ]
     },
     "execution_count": 11,
     "metadata": {},
     "output_type": "execute_result"
    }
   ],
   "source": [
    "# So that the next time you make this exact request, the arrays come from cache, not disk.\n",
    "\n",
    "arrays = uproot.open(\"data/Zmumu.root\")[\"events\"].arrays(\"*\", cache=cache)\n",
    "arrays"
   ]
  },
  {
   "cell_type": "code",
   "execution_count": 18,
   "metadata": {},
   "outputs": [
    {
     "data": {
      "text/plain": [
       "['AAGUS3fQmKsR56dpAQAAf77v;events;pz2;asdtype(Bf8(),Lf8());0-2304',\n",
       " 'AAGUS3fQmKsR56dpAQAAf77v;events;pt2;asdtype(Bf8(),Lf8());0-2304',\n",
       " 'AAGUS3fQmKsR56dpAQAAf77v;events;eta2;asdtype(Bf8(),Lf8());0-2304',\n",
       " 'AAGUS3fQmKsR56dpAQAAf77v;events;phi2;asdtype(Bf8(),Lf8());0-2304',\n",
       " 'AAGUS3fQmKsR56dpAQAAf77v;events;Q2;asdtype(Bi4(),Li4());0-2304',\n",
       " 'AAGUS3fQmKsR56dpAQAAf77v;events;M;asdtype(Bf8(),Lf8());0-2304']"
      ]
     },
     "execution_count": 18,
     "metadata": {},
     "output_type": "execute_result"
    }
   ],
   "source": [
    "# Using a dict as a cache keeps everything in memory forever (until you call dict.clear()).\n",
    "\n",
    "# More realistically, you should use an ArrayCache with a memory upper limit.\n",
    "\n",
    "cache = uproot.cache.ArrayCache(100*1024)   # 100*1024 bytes is 100 kB\n",
    "\n",
    "arrays = uproot.open(\"data/Zmumu.root\")[\"events\"].arrays(\"*\", cache=cache)\n",
    "\n",
    "# Now we only have the last ones that fit into cache.\n",
    "list(cache.keys())"
   ]
  },
  {
   "cell_type": "markdown",
   "metadata": {},
   "source": [
    "<br><br><br><br>\n",
    "\n",
    "**Question:** couldn't you manage arrays in memory yourself?\n",
    "\n",
    "Yes, but inserting `cache=whatever` into your function calls minimally changes your analysis script, which avoids cluttering it up with technical details.\n",
    "\n",
    "<br><br><br><br>"
   ]
  },
  {
   "cell_type": "code",
   "execution_count": 34,
   "metadata": {},
   "outputs": [
    {
     "data": {
      "text/plain": [
       "asdtype('>f8')"
      ]
     },
     "execution_count": 34,
     "metadata": {},
     "output_type": "execute_result"
    }
   ],
   "source": [
    "# To see the caching in action, let's overload an interpretation so that it prints when used.\n",
    "\n",
    "class CustomAsDtype(uproot.asdtype):\n",
    "    @property\n",
    "    def identifier(self):\n",
    "        out = super(CustomAsDtype, self).identifier\n",
    "        print(out, \"identifier\")\n",
    "        return out\n",
    "    def fromroot(self, *args):\n",
    "        print(self.identifier, \"fromroot (first step in interpreting data from a ROOT file)\")\n",
    "        return super(CustomAsDtype, self).fromroot(*args)\n",
    "    def finalize(self, *args):\n",
    "        print(self.identifier, \"finalize (puts finishing touches on array and returns it)\")\n",
    "        return super(CustomAsDtype, self).finalize(*args)\n",
    "\n",
    "custom_asdtype = uproot.open(\"data/Zmumu.root\")[\"events\"][\"E1\"].interpretation\n",
    "custom_asdtype.__class__ = CustomAsDtype\n",
    "custom_asdtype"
   ]
  },
  {
   "cell_type": "code",
   "execution_count": 35,
   "metadata": {},
   "outputs": [
    {
     "name": "stdout",
     "output_type": "stream",
     "text": [
      "asdtype(Bf8(),Lf8()) identifier\n",
      "asdtype(Bf8(),Lf8()) identifier\n",
      "asdtype(Bf8(),Lf8()) fromroot (first step in interpreting data from a ROOT file)\n",
      "asdtype(Bf8(),Lf8()) identifier\n",
      "asdtype(Bf8(),Lf8()) finalize (puts finishing touches on array and returns it)\n"
     ]
    }
   ],
   "source": [
    "# Exercise: modify this cell so that evaluating it draws from the cache, instead of reading\n",
    "# fromroot and finalizing the array.\n",
    "\n",
    "# You should see it print only one message: identifier.\n",
    "\n",
    "cache = {}\n",
    "\n",
    "arrays = uproot.open(\"data/Zmumu.root\")[\"events\"][\"E1\"].array(custom_asdtype, cache=cache)"
   ]
  }
 ],
 "metadata": {
  "kernelspec": {
   "display_name": "Python 3",
   "language": "python",
   "name": "python3"
  },
  "language_info": {
   "codemirror_mode": {
    "name": "ipython",
    "version": 3
   },
   "file_extension": ".py",
   "mimetype": "text/x-python",
   "name": "python",
   "nbconvert_exporter": "python",
   "pygments_lexer": "ipython3",
   "version": "3.7.2"
  }
 },
 "nbformat": 4,
 "nbformat_minor": 2
}
