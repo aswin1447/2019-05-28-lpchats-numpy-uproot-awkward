{
 "cells": [
  {
   "cell_type": "markdown",
   "metadata": {},
   "source": [
    "<br><br><br><br><br>\n",
    "\n",
    "# Advanced Uproot\n",
    "\n",
    "<br><br><br><br><br>"
   ]
  },
  {
   "cell_type": "markdown",
   "metadata": {},
   "source": [
    "<br><br>\n",
    "\n",
    "## Cache management\n",
    "\n",
    "<br>\n",
    "\n",
    "**Uproot does not automatically cache arrays.** (Remote backends cache raw bytes, but that's different.)\n",
    "\n",
    "  * **Disadvantage:** unless you opt-into caching, uproot reads and decompresses the data every time you ask for it.\n",
    "  * **Advantage:** you control how much memory your process uses.\n",
    "\n",
    "<br>\n",
    "\n",
    "In this sense and others, uproot is a _low-level_ library.\n",
    "\n",
    "<br><br>"
   ]
  },
  {
   "cell_type": "code",
   "execution_count": 1,
   "metadata": {},
   "outputs": [
    {
     "data": {
      "text/plain": [
       "{'AAGUS3fQmKsR56dpAQAAf77v;events;Type;asstring();0-2304': <ObjectArray [b'GT' b'TT' b'GT' ... b'TT' b'GT' b'GG'] at 0x7c9767361ac8>,\n",
       " 'AAGUS3fQmKsR56dpAQAAf77v;events;Run;asdtype(Bi4(),Li4());0-2304': array([148031, 148031, 148031, ..., 148029, 148029, 148029], dtype=int32),\n",
       " 'AAGUS3fQmKsR56dpAQAAf77v;events;Event;asdtype(Bi4(),Li4());0-2304': array([10507008, 10507008, 10507008, ..., 99991333, 99991333, 99991333],\n",
       "       dtype=int32),\n",
       " 'AAGUS3fQmKsR56dpAQAAf77v;events;E1;asdtype(Bf8(),Lf8());0-2304': array([82.20186639, 62.34492895, 62.34492895, ..., 81.27013558,\n",
       "        81.27013558, 81.56621735]),\n",
       " 'AAGUS3fQmKsR56dpAQAAf77v;events;px1;asdtype(Bf8(),Lf8());0-2304': array([-41.19528764,  35.11804977,  35.11804977, ...,  32.37749196,\n",
       "         32.37749196,  32.48539387]),\n",
       " 'AAGUS3fQmKsR56dpAQAAf77v;events;py1;asdtype(Bf8(),Lf8());0-2304': array([ 17.4332439 , -16.57036233, -16.57036233, ...,   1.19940578,\n",
       "          1.19940578,   1.2013503 ]),\n",
       " 'AAGUS3fQmKsR56dpAQAAf77v;events;pz1;asdtype(Bf8(),Lf8());0-2304': array([-68.96496181, -48.77524654, -48.77524654, ..., -74.53243061,\n",
       "        -74.53243061, -74.80837247]),\n",
       " 'AAGUS3fQmKsR56dpAQAAf77v;events;pt1;asdtype(Bf8(),Lf8());0-2304': array([44.7322, 38.8311, 38.8311, ..., 32.3997, 32.3997, 32.3997]),\n",
       " 'AAGUS3fQmKsR56dpAQAAf77v;events;eta1;asdtype(Bf8(),Lf8());0-2304': array([-1.21769, -1.05139, -1.05139, ..., -1.57044, -1.57044, -1.57044]),\n",
       " 'AAGUS3fQmKsR56dpAQAAf77v;events;phi1;asdtype(Bf8(),Lf8());0-2304': array([ 2.74126  , -0.440873 , -0.440873 , ...,  0.0370275,  0.0370275,\n",
       "         0.0370275]),\n",
       " 'AAGUS3fQmKsR56dpAQAAf77v;events;Q1;asdtype(Bi4(),Li4());0-2304': array([ 1, -1, -1, ...,  1,  1,  1], dtype=int32),\n",
       " 'AAGUS3fQmKsR56dpAQAAf77v;events;E2;asdtype(Bf8(),Lf8());0-2304': array([ 60.62187459,  82.20186639,  81.58277833, ..., 168.78012134,\n",
       "        170.58313243, 170.58313243]),\n",
       " 'AAGUS3fQmKsR56dpAQAAf77v;events;px2;asdtype(Bf8(),Lf8());0-2304': array([ 34.14443725, -41.19528764, -40.88332344, ..., -68.04191497,\n",
       "        -68.79413604, -68.79413604]),\n",
       " 'AAGUS3fQmKsR56dpAQAAf77v;events;py2;asdtype(Bf8(),Lf8());0-2304': array([-16.11952457,  17.4332439 ,  17.29929704, ..., -26.10584737,\n",
       "        -26.39840043, -26.39840043]),\n",
       " 'AAGUS3fQmKsR56dpAQAAf77v;events;pz2;asdtype(Bf8(),Lf8());0-2304': array([ -47.42698439,  -68.96496181,  -68.44725519, ..., -152.2350181 ,\n",
       "        -153.84760383, -153.84760383]),\n",
       " 'AAGUS3fQmKsR56dpAQAAf77v;events;pt2;asdtype(Bf8(),Lf8());0-2304': array([38.8311, 44.7322, 44.7322, ..., 72.8781, 72.8781, 72.8781]),\n",
       " 'AAGUS3fQmKsR56dpAQAAf77v;events;eta2;asdtype(Bf8(),Lf8());0-2304': array([-1.05139, -1.21769, -1.21769, ..., -1.4827 , -1.4827 , -1.4827 ]),\n",
       " 'AAGUS3fQmKsR56dpAQAAf77v;events;phi2;asdtype(Bf8(),Lf8());0-2304': array([-0.440873,  2.74126 ,  2.74126 , ..., -2.77524 , -2.77524 ,\n",
       "        -2.77524 ]),\n",
       " 'AAGUS3fQmKsR56dpAQAAf77v;events;Q2;asdtype(Bi4(),Li4());0-2304': array([-1,  1,  1, ..., -1, -1, -1], dtype=int32),\n",
       " 'AAGUS3fQmKsR56dpAQAAf77v;events;M;asdtype(Bf8(),Lf8());0-2304': array([82.46269156, 83.62620401, 83.30846467, ..., 95.96547966,\n",
       "        96.49594381, 96.65672765])}"
      ]
     },
     "execution_count": 1,
     "metadata": {},
     "output_type": "execute_result"
    }
   ],
   "source": [
    "import uproot\n",
    "\n",
    "# any dict-like object may be used as a cache\n",
    "cache = {}\n",
    "\n",
    "arrays = uproot.open(\"data/Zmumu.root\")[\"events\"].arrays(\"*\", cache=cache)\n",
    "\n",
    "# cache contains UUID;treename;branchname;interpretation;entryrange → arrays\n",
    "cache"
   ]
  },
  {
   "cell_type": "code",
   "execution_count": 2,
   "metadata": {},
   "outputs": [
    {
     "data": {
      "text/plain": [
       "{b'Type': <ObjectArray [b'GT' b'TT' b'GT' ... b'TT' b'GT' b'GG'] at 0x7c9767361ac8>,\n",
       " b'Run': array([148031, 148031, 148031, ..., 148029, 148029, 148029], dtype=int32),\n",
       " b'Event': array([10507008, 10507008, 10507008, ..., 99991333, 99991333, 99991333],\n",
       "       dtype=int32),\n",
       " b'E1': array([82.20186639, 62.34492895, 62.34492895, ..., 81.27013558,\n",
       "        81.27013558, 81.56621735]),\n",
       " b'px1': array([-41.19528764,  35.11804977,  35.11804977, ...,  32.37749196,\n",
       "         32.37749196,  32.48539387]),\n",
       " b'py1': array([ 17.4332439 , -16.57036233, -16.57036233, ...,   1.19940578,\n",
       "          1.19940578,   1.2013503 ]),\n",
       " b'pz1': array([-68.96496181, -48.77524654, -48.77524654, ..., -74.53243061,\n",
       "        -74.53243061, -74.80837247]),\n",
       " b'pt1': array([44.7322, 38.8311, 38.8311, ..., 32.3997, 32.3997, 32.3997]),\n",
       " b'eta1': array([-1.21769, -1.05139, -1.05139, ..., -1.57044, -1.57044, -1.57044]),\n",
       " b'phi1': array([ 2.74126  , -0.440873 , -0.440873 , ...,  0.0370275,  0.0370275,\n",
       "         0.0370275]),\n",
       " b'Q1': array([ 1, -1, -1, ...,  1,  1,  1], dtype=int32),\n",
       " b'E2': array([ 60.62187459,  82.20186639,  81.58277833, ..., 168.78012134,\n",
       "        170.58313243, 170.58313243]),\n",
       " b'px2': array([ 34.14443725, -41.19528764, -40.88332344, ..., -68.04191497,\n",
       "        -68.79413604, -68.79413604]),\n",
       " b'py2': array([-16.11952457,  17.4332439 ,  17.29929704, ..., -26.10584737,\n",
       "        -26.39840043, -26.39840043]),\n",
       " b'pz2': array([ -47.42698439,  -68.96496181,  -68.44725519, ..., -152.2350181 ,\n",
       "        -153.84760383, -153.84760383]),\n",
       " b'pt2': array([38.8311, 44.7322, 44.7322, ..., 72.8781, 72.8781, 72.8781]),\n",
       " b'eta2': array([-1.05139, -1.21769, -1.21769, ..., -1.4827 , -1.4827 , -1.4827 ]),\n",
       " b'phi2': array([-0.440873,  2.74126 ,  2.74126 , ..., -2.77524 , -2.77524 ,\n",
       "        -2.77524 ]),\n",
       " b'Q2': array([-1,  1,  1, ..., -1, -1, -1], dtype=int32),\n",
       " b'M': array([82.46269156, 83.62620401, 83.30846467, ..., 95.96547966,\n",
       "        96.49594381, 96.65672765])}"
      ]
     },
     "execution_count": 2,
     "metadata": {},
     "output_type": "execute_result"
    }
   ],
   "source": [
    "# So that the next time you make this exact request, the arrays come from cache, not disk.\n",
    "\n",
    "arrays = uproot.open(\"data/Zmumu.root\")[\"events\"].arrays(\"*\", cache=cache)\n",
    "arrays"
   ]
  },
  {
   "cell_type": "code",
   "execution_count": 3,
   "metadata": {},
   "outputs": [
    {
     "data": {
      "text/plain": [
       "['AAGUS3fQmKsR56dpAQAAf77v;events;pz2;asdtype(Bf8(),Lf8());0-2304',\n",
       " 'AAGUS3fQmKsR56dpAQAAf77v;events;pt2;asdtype(Bf8(),Lf8());0-2304',\n",
       " 'AAGUS3fQmKsR56dpAQAAf77v;events;eta2;asdtype(Bf8(),Lf8());0-2304',\n",
       " 'AAGUS3fQmKsR56dpAQAAf77v;events;phi2;asdtype(Bf8(),Lf8());0-2304',\n",
       " 'AAGUS3fQmKsR56dpAQAAf77v;events;Q2;asdtype(Bi4(),Li4());0-2304',\n",
       " 'AAGUS3fQmKsR56dpAQAAf77v;events;M;asdtype(Bf8(),Lf8());0-2304']"
      ]
     },
     "execution_count": 3,
     "metadata": {},
     "output_type": "execute_result"
    }
   ],
   "source": [
    "# Using a dict as a cache keeps everything in memory forever (until you call dict.clear()).\n",
    "\n",
    "# More realistically, you should use an ArrayCache with a memory upper limit.\n",
    "\n",
    "cache = uproot.cache.ArrayCache(100*1024)   # 100*1024 bytes is 100 kB\n",
    "\n",
    "arrays = uproot.open(\"data/Zmumu.root\")[\"events\"].arrays(\"*\", cache=cache)\n",
    "\n",
    "# Now we only have the last ones that fit into cache.\n",
    "list(cache.keys())"
   ]
  },
  {
   "cell_type": "markdown",
   "metadata": {},
   "source": [
    "<br><br><br><br>\n",
    "\n",
    "**Question:** couldn't you manage arrays in memory yourself?\n",
    "\n",
    "Yes, but inserting `cache=whatever` into your function calls minimally changes your analysis script, which avoids cluttering it up with technical details.\n",
    "\n",
    "<br><br><br><br>"
   ]
  },
  {
   "cell_type": "code",
   "execution_count": 28,
   "metadata": {},
   "outputs": [
    {
     "data": {
      "text/plain": [
       "asdtype('>f8')"
      ]
     },
     "execution_count": 28,
     "metadata": {},
     "output_type": "execute_result"
    }
   ],
   "source": [
    "# To see the caching in action, let's overload an interpretation so that it prints when used.\n",
    "\n",
    "class CustomAsDtype(uproot.asdtype):\n",
    "    @property\n",
    "    def identifier(self):\n",
    "        out = super(CustomAsDtype, self).identifier\n",
    "        print(out, \"identifier\")\n",
    "        return out\n",
    "    def fromroot(self, *args):\n",
    "        print(self.identifier, \"fromroot (first step in interpreting data from a ROOT file)\")\n",
    "        return super(CustomAsDtype, self).fromroot(*args)\n",
    "    def finalize(self, *args):\n",
    "        print(self.identifier, \"finalize (puts finishing touches on array and returns it)\")\n",
    "        return super(CustomAsDtype, self).finalize(*args)\n",
    "\n",
    "custom_asdtype = uproot.open(\"data/Zmumu.root\")[\"events\"][\"E1\"].interpretation\n",
    "custom_asdtype.__class__ = CustomAsDtype\n",
    "custom_asdtype"
   ]
  },
  {
   "cell_type": "code",
   "execution_count": 5,
   "metadata": {},
   "outputs": [
    {
     "name": "stdout",
     "output_type": "stream",
     "text": [
      "asdtype(Bf8(),Lf8()) identifier\n",
      "asdtype(Bf8(),Lf8()) identifier\n",
      "asdtype(Bf8(),Lf8()) fromroot (first step in interpreting data from a ROOT file)\n",
      "asdtype(Bf8(),Lf8()) identifier\n",
      "asdtype(Bf8(),Lf8()) finalize (puts finishing touches on array and returns it)\n"
     ]
    }
   ],
   "source": [
    "# Exercise: modify this cell so that evaluating it draws from the cache, instead of reading\n",
    "# fromroot and finalizing the array.\n",
    "\n",
    "# You should see it print only one message: identifier.\n",
    "\n",
    "cache = {}\n",
    "\n",
    "arrays = uproot.open(\"data/Zmumu.root\")[\"events\"][\"E1\"].array(custom_asdtype, cache=cache)"
   ]
  },
  {
   "cell_type": "markdown",
   "metadata": {},
   "source": [
    "<br>\n",
    "\n",
    "## Interpretations\n",
    "\n",
    "<br>\n",
    "\n",
    "Uproot performs two tasks:\n",
    "\n",
    "   * it recognizes class objects like TH1F and TTree, using the latter to navigate to raw physics data (in TBaskets)\n",
    "   * it provides tools to interpret the raw physics data however is needed.\n",
    "\n",
    "Most users don't mess with the default interpretations, but it's worth peeking inside to see how it works. Uproot provides the tools to investigate the TBasket data deeply.\n",
    "\n",
    "<br>\n",
    "\n",
    "This is another sense in which uproot is a _low-level_ library.\n",
    "\n",
    "<br>"
   ]
  },
  {
   "cell_type": "code",
   "execution_count": 6,
   "metadata": {},
   "outputs": [
    {
     "name": "stdout",
     "output_type": "stream",
     "text": [
      "\n",
      "branch.title = b'Type/C'\n",
      "\n",
      "branch.interpretation = asstring()\n",
      "\n",
      "uproot.asdebug = asjagged(asdtype('uint8'))\n",
      "\n",
      "branch.array() = [b'GT' b'TT' b'GT' ... b'TT' b'GT' b'GG']\n",
      "\n",
      "branch.array(uproot.asdebug) = [[2 71 84] [2 84 84] [2 71 84] ... [2 84 84] [2 71 84] [2 71 71]]\n"
     ]
    }
   ],
   "source": [
    "branch = uproot.open(\"data/Zmumu.root\")[\"events\"][\"Type\"]\n",
    "\n",
    "# The default interpretation for a /C branch is \"asstring.\"\n",
    "\n",
    "# But if we interpret it asjagged(asdtype('uint8')), we can see raw bytes, separated by event.\n",
    "\n",
    "# Can you see what those bytes mean?\n",
    "\n",
    "print(f\"\\nbranch.title = {branch.title}\")\n",
    "print(f\"\\nbranch.interpretation = {branch.interpretation}\")\n",
    "print(f\"\\nuproot.asdebug = {uproot.asdebug}\")\n",
    "print(f\"\\nbranch.array() = {branch.array()}\")\n",
    "print(f\"\\nbranch.array(uproot.asdebug) = {branch.array(uproot.asdebug)}\")"
   ]
  },
  {
   "cell_type": "code",
   "execution_count": 7,
   "metadata": {},
   "outputs": [
    {
     "name": "stdout",
     "output_type": "stream",
     "text": [
      "\n",
      "branch.interpretation = asjagged(asobj(<uproot_methods.classes.TLorentzVector.Methods>), 10)\n",
      "\n",
      "branch.interpretation.content.content.content.fromdtype =\n",
      "        dtype([(' fBits', '>u8'), (' fUniqueID', '>u8'), (' fBits2', '>u8'), (' fUniqueID2', '>u8'), ('fX', '>f8'), ('fY', '>f8'), ('fZ', '>f8'), ('fE', '>f8')])\n",
      "\n",
      "branch.array(entrystop=1)[0] = [TLorentzVector(-52.899, -11.655, -8.1608, 54.779) TLorentzVector(37.738, 0.69347, -11.308, 39.402)]\n",
      "\n"
     ]
    },
    {
     "data": {
      "text/html": [
       "<div>\n",
       "<style scoped>\n",
       "    .dataframe tbody tr th:only-of-type {\n",
       "        vertical-align: middle;\n",
       "    }\n",
       "\n",
       "    .dataframe tbody tr th {\n",
       "        vertical-align: top;\n",
       "    }\n",
       "\n",
       "    .dataframe thead th {\n",
       "        text-align: right;\n",
       "    }\n",
       "</style>\n",
       "<table border=\"1\" class=\"dataframe\">\n",
       "  <thead>\n",
       "    <tr style=\"text-align: right;\">\n",
       "      <th></th>\n",
       "      <th>fBits</th>\n",
       "      <th>fUniqueID</th>\n",
       "      <th>fBits2</th>\n",
       "      <th>fUniqueID2</th>\n",
       "      <th>fX</th>\n",
       "      <th>fY</th>\n",
       "      <th>fZ</th>\n",
       "      <th>fE</th>\n",
       "    </tr>\n",
       "  </thead>\n",
       "  <tbody>\n",
       "    <tr>\n",
       "      <th>0</th>\n",
       "      <td>4611686276125687809</td>\n",
       "      <td>33554432</td>\n",
       "      <td>4611686173046407169</td>\n",
       "      <td>33554432</td>\n",
       "      <td>-52.899456</td>\n",
       "      <td>-11.654672</td>\n",
       "      <td>-8.160793</td>\n",
       "      <td>54.779499</td>\n",
       "    </tr>\n",
       "    <tr>\n",
       "      <th>1</th>\n",
       "      <td>4611686276125687809</td>\n",
       "      <td>33554432</td>\n",
       "      <td>4611686173046407169</td>\n",
       "      <td>33554432</td>\n",
       "      <td>37.737782</td>\n",
       "      <td>0.693474</td>\n",
       "      <td>-11.307582</td>\n",
       "      <td>39.401695</td>\n",
       "    </tr>\n",
       "  </tbody>\n",
       "</table>\n",
       "</div>"
      ],
      "text/plain": [
       "                 fBits   fUniqueID               fBits2   fUniqueID2  \\\n",
       "0  4611686276125687809    33554432  4611686173046407169     33554432   \n",
       "1  4611686276125687809    33554432  4611686173046407169     33554432   \n",
       "\n",
       "          fX         fY         fZ         fE  \n",
       "0 -52.899456 -11.654672  -8.160793  54.779499  \n",
       "1  37.737782   0.693474 -11.307582  39.401695  "
      ]
     },
     "execution_count": 7,
     "metadata": {},
     "output_type": "execute_result"
    }
   ],
   "source": [
    "branch = uproot.open(\"data/HZZ-objects.root\")[\"events\"][\"muonp4\"]\n",
    "\n",
    "print(f\"\\nbranch.interpretation = {branch.interpretation}\")\n",
    "print(f\"\"\"\\nbranch.interpretation.content.content.content.fromdtype =\n",
    "        {repr(branch.interpretation.content.content.content.fromdtype)}\"\"\")\n",
    "print(f\"\\nbranch.array(entrystop=1)[0] = {branch.array(entrystop=1)[0]}\\n\")\n",
    "\n",
    "import pandas\n",
    "pandas.DataFrame(branch.array(uproot.asjagged(uproot.asdtype(\n",
    "    branch.interpretation.content.content.content.fromdtype), skipbytes=10), entrystop=1)[0])"
   ]
  },
  {
   "cell_type": "markdown",
   "metadata": {},
   "source": [
    "<br>\n",
    "\n",
    "This TLorentzVector has structure:\n",
    "\n",
    "```c++\n",
    "// 10 bytes of std::vector header...\n",
    "struct {\n",
    "    unsigned long fBits;\n",
    "    unsigned long fUniqueID;\n",
    "\n",
    "    unsigned long fBits2;\n",
    "    unsigned long fUniqueID2;\n",
    "    double fX;\n",
    "    double fY;\n",
    "    double fZ;\n",
    "\n",
    "    double fE;\n",
    "};\n",
    "```\n",
    "\n",
    "All of this was derived from the streamers, but we can inspect it.\n",
    "\n",
    "<br>"
   ]
  },
  {
   "cell_type": "markdown",
   "metadata": {},
   "source": [
    "<br>\n",
    "\n",
    "This TLorentzVector has structure:\n",
    "\n",
    "```c++\n",
    "// 10 bytes of std::vector header...\n",
    "struct {\n",
    "    unsigned long fBits;          // TLorentzVector's TObject superclass\n",
    "    unsigned long fUniqueID;\n",
    "    struct {\n",
    "        unsigned long fBits;      // TVector3's TObject superclass\n",
    "        unsigned long fUniqueID;\n",
    "        double fX;\n",
    "        double fY;\n",
    "        double fZ;\n",
    "    }\n",
    "    double fE;\n",
    "};\n",
    "```\n",
    "\n",
    "All of this was derived from the streamers, but we can inspect it.\n",
    "\n",
    "<br>"
   ]
  },
  {
   "cell_type": "code",
   "execution_count": 8,
   "metadata": {},
   "outputs": [
    {
     "name": "stdout",
     "output_type": "stream",
     "text": [
      "class TVector3(uproot_methods.classes.TVector3.Methods, TObject):\n",
      "    _methods = uproot_methods.classes.TVector3.Methods\n",
      "    _bases = [TObject]\n",
      "    @classmethod\n",
      "    def _recarray(cls):\n",
      "        out = []\n",
      "        out.append((' cnt', 'u4'))\n",
      "        out.append((' vers', 'u2'))\n",
      "        for base in cls._bases:\n",
      "            out.extend(base._recarray())\n",
      "        out.append(('fX', numpy.dtype('>f8')))\n",
      "        out.append(('fY', numpy.dtype('>f8')))\n",
      "        out.append(('fZ', numpy.dtype('>f8')))\n",
      "        return out\n",
      "    _fields = ['fX', 'fY', 'fZ']\n",
      "    _classname = b'TVector3'\n",
      "    _versions = versions\n",
      "    _classversion = 3\n",
      "    @classmethod\n",
      "    def _readinto(cls, self, source, cursor, context, parent, asclass=None):\n",
      "        start, cnt, classversion = _startcheck(source, cursor)\n",
      "        if cls._classversion != classversion:\n",
      "            cursor.index = start\n",
      "            if classversion in cls._versions:\n",
      "                return cls._versions[classversion]._readinto(self, source, cursor, context, parent)\n",
      "            else:\n",
      "                return Undefined.read(source, cursor, context, parent, cls.__name__)\n",
      "        TObject._readinto(self, source, cursor, context, parent)\n",
      "        self._fX, self._fY, self._fZ = cursor.fields(source, cls._format1)\n",
      "        if self.__class__.__name__ == cls.__name__:\n",
      "            self.__class__ = cls._versions[classversion]\n",
      "        try:\n",
      "            _endcheck(start, cursor, cnt)\n",
      "        except ValueError:\n",
      "            cursor.index = start\n",
      "            return Undefined.read(source, cursor, context, parent, cls.__name__)\n",
      "        return self\n",
      "    _format1 = struct.Struct('>ddd')\n"
     ]
    }
   ],
   "source": [
    "# This Python code was automatically generated from streamer info in the ROOT file:\n",
    "print(uproot.open(\"data/HZZ-objects.root\")._context.classes[\"TVector3\"]._pycode)"
   ]
  },
  {
   "cell_type": "code",
   "execution_count": 9,
   "metadata": {},
   "outputs": [
    {
     "name": "stdout",
     "output_type": "stream",
     "text": [
      "<JaggedArrayMethods [[TLorentzVector(-52.899, -11.655, -8.1608, 54.779) TLorentzVector(37.738, 0.69347, -11.308, 39.402)] [TLorentzVector(-0.81646, -24.404, 20.2, 31.69)] [TLorentzVector(48.988, -21.723, 11.168, 54.74) TLorentzVector(0.82757, 29.801, 36.965, 47.489)] ... [TLorentzVector(-29.757, -15.304, -52.664, 62.395)] [TLorentzVector(1.1419, 63.61, 162.18, 174.21)] [TLorentzVector(23.913, -35.665, 54.719, 69.556)]] at 0x7c97653e5048>\n",
      "\n",
      "[' fBits', ' fUniqueID', ' fBits2', ' fUniqueID2', 'fX', 'fY', 'fZ', 'fE']\n",
      "\n",
      "[[-52.89945602416992 37.7377815246582] [-0.8164593577384949] [48.987831115722656 0.8275666832923889] ... [-29.756786346435547] [1.1418697834014893] [23.913206100463867]]\n",
      "\n",
      "[[-52.89945602416992 37.7377815246582] [-0.8164593577384949] [48.987831115722656 0.8275666832923889] ... [-29.756786346435547] [1.1418697834014893] [23.913206100463867]]\n",
      "\n"
     ]
    }
   ],
   "source": [
    "array = uproot.open(\"data/HZZ-objects.root\")[\"events\"][\"muonp4\"].array()\n",
    "print(repr(array), end=\"\\n\\n\")\n",
    "\n",
    "print(array.columns, end=\"\\n\\n\")\n",
    "\n",
    "print(array[\"fX\"], end=\"\\n\\n\")    # get the x values directly as a Table column\n",
    "\n",
    "print(array.x, end=\"\\n\\n\")        # get the x values using a high-level Python method"
   ]
  },
  {
   "cell_type": "code",
   "execution_count": 10,
   "metadata": {},
   "outputs": [
    {
     "name": "stdout",
     "output_type": "stream",
     "text": [
      "\n",
      "myarray    = [TLorentzVector(1, 1, 1, 10) TLorentzVector(2, 2, 2, 10) TLorentzVector(3, 3, 3, 10)]\n",
      "\n",
      "myarray.pt = [ 2.  8. 18.]\n"
     ]
    }
   ],
   "source": [
    "# All of these high-level methods are defined in uproot-methods, not uproot.\n",
    "\n",
    "# Uproot itself is strictly about file I/O, so histogram-handling and kinematics are exiled here.\n",
    "\n",
    "import uproot_methods\n",
    "\n",
    "# You can create your own ROOT-inspired objects directly with uproot-methods...\n",
    "\n",
    "myarray = uproot_methods.TLorentzVectorArray([1, 2, 3], [1, 2, 3], [1, 2, 3], 10)\n",
    "print(f\"\\nmyarray    = {myarray}\")\n",
    "\n",
    "print(f\"\\nmyarray.pt = {myarray.pt**2}\")"
   ]
  },
  {
   "cell_type": "code",
   "execution_count": 11,
   "metadata": {},
   "outputs": [
    {
     "name": "stdout",
     "output_type": "stream",
     "text": [
      "\n",
      "myarray.content.contents['fX'] = array([1, 2, 3])\n",
      "\n",
      "myarray.content                = <Table [<Row 0> <Row 1> <Row 2>] at 0x7c976548b080>\n",
      "\n",
      "myarray                        = <TLorentzVectorArray [TLorentzVector(1, 1, 1, 10) TLorentzVector(2, 2, 2, 10) TLorentzVector(3, 3, 3, 10)] at 0x7c976548b198>\n"
     ]
    }
   ],
   "source": [
    "# This is just a bunch of column arrays...\n",
    "print(f\"\\nmyarray.content.contents['fX'] = {repr(myarray.content.contents['fX'])}\")\n",
    "\n",
    "# Wrapped up as a table...\n",
    "print(f\"\\nmyarray.content                = {repr(myarray.content)}\")\n",
    "\n",
    "# With high-level physics methods on top of that.\n",
    "print(f\"\\nmyarray                        = {repr(myarray)}\")"
   ]
  },
  {
   "cell_type": "markdown",
   "metadata": {},
   "source": [
    "<br><br>\n",
    "\n",
    "## Detail about baskets\n",
    "\n",
    "<br>\n",
    "\n",
    "Uproot needs to access details about TBaskets (number of bytes, number of entries, etc.), and these are public methods. You might want to use them to diagnose issues with your ROOT files, most importantly **too many small baskets**.\n",
    "\n",
    "<br>\n",
    "\n",
    "Yet another sense in which uproot is a _low-level_ library.\n",
    "\n",
    "<br><br>"
   ]
  },
  {
   "cell_type": "markdown",
   "metadata": {},
   "source": [
    "<img src=\"img/terminology.png\" width=\"90%\">"
   ]
  },
  {
   "cell_type": "code",
   "execution_count": 12,
   "metadata": {},
   "outputs": [
    {
     "name": "stdout",
     "output_type": "stream",
     "text": [
      "\n",
      "tree.numentries = 2421, branch.numentries = 2421\n",
      "\n",
      "branch.numbaskets = 10\n",
      "\n",
      "branch.numitems() = 3825\n",
      "\n",
      "branch.basket_numentries(0) = 262\n",
      "\n",
      "branch.basket_numitems(0) = 423\n"
     ]
    }
   ],
   "source": [
    "tree = uproot.open(\"data/HZZ-objects.root\")[\"events\"]\n",
    "branch = tree[\"muonp4\"]\n",
    "\n",
    "# TTree number of entries SHOULD be equal to the TBranch number of entries...\n",
    "print(f\"\\ntree.numentries = {tree.numentries}, branch.numentries = {branch.numentries}\")\n",
    "\n",
    "print(f\"\\nbranch.numbaskets = {branch.numbaskets}\")\n",
    "\n",
    "# If you have multiple values per event (entry), the number of items != number of entries\n",
    "print(f\"\\nbranch.numitems() = {branch.numitems()}\")\n",
    "\n",
    "print(f\"\\nbranch.basket_numentries(0) = {branch.basket_numentries(0)}\")\n",
    "\n",
    "print(f\"\\nbranch.basket_numitems(0) = {branch.basket_numitems(0)}\")"
   ]
  },
  {
   "cell_type": "code",
   "execution_count": 13,
   "metadata": {},
   "outputs": [
    {
     "name": "stdout",
     "output_type": "stream",
     "text": [
      "262\n",
      "[TLorentzVector(-52.899, -11.655, -8.1608, 54.779) TLorentzVector(37.738, 0.69347, -11.308, 39.402)]\n",
      "268\n",
      "[TLorentzVector(-32.974, -52.461, 46.334, 77.371) TLorentzVector(22.022, 22.085, 7.9787, 32.193)]\n",
      "269\n",
      "[TLorentzVector(-31.721, 26.438, 30.693, 51.452) TLorentzVector(-12.316, -38.976, -25.216, 48.028)]\n",
      "268\n",
      "[TLorentzVector(61.393, -29.656, -114.65, 133.4) TLorentzVector(-5.3458, 40.936, -54.989, 68.761)]\n",
      "271\n",
      "[TLorentzVector(-29.59, -23.43, 77.423, 86.133)]\n",
      "262\n",
      "[TLorentzVector(53.614, -35.479, 105.72, 123.74) TLorentzVector(13.618, 38.494, 150.76, 156.2)]\n",
      "269\n",
      "[TLorentzVector(-35.162, 37.467, -127.09, 137.08) TLorentzVector(10.536, -47.655, -178.63, 185.18)]\n",
      "272\n",
      "[TLorentzVector(30.471, 0.62969, 40.417, 50.62)]\n",
      "263\n",
      "[TLorentzVector(22.242, -12.982, -11.336, 28.138)]\n",
      "17\n",
      "[TLorentzVector(-31.072, -55.729, 149.66, 162.7)]\n"
     ]
    }
   ],
   "source": [
    "# Read one TBasket at a time\n",
    "for basket in branch.iterate_baskets():\n",
    "    print(len(basket), basket[0], sep=\"\\n\")"
   ]
  },
  {
   "cell_type": "code",
   "execution_count": 14,
   "metadata": {},
   "outputs": [
    {
     "data": {
      "text/plain": [
       "[(0, 221), (221, 442), (442, 663), (663, 800), (800, 1000)]"
      ]
     },
     "execution_count": 14,
     "metadata": {},
     "output_type": "execute_result"
    }
   ],
   "source": [
    "# Uproot's operational definition of \"clusters\" are the entry ranges where a set of branch's baskets\n",
    "# line up. (This is a good place to slice entry ranges, to avoid reading unnecessary baskets.)\n",
    "\n",
    "# Exercise: what happens if you include \"fTemperature\" in the selection? Why?\n",
    "\n",
    "tree = uproot.open(\"http://scikit-hep.org/uproot/examples/Event.root\")[\"T\"]\n",
    "list(tree.clusters([\"fMatrix[4][4]\"]))"
   ]
  },
  {
   "cell_type": "code",
   "execution_count": 17,
   "metadata": {},
   "outputs": [
    {
     "name": "stdout",
     "output_type": "stream",
     "text": [
      "[(b'fMatrix[4][4]', 221)]\n",
      "[(b'fMatrix[4][4]', 221)]\n",
      "[(b'fMatrix[4][4]', 221)]\n",
      "[(b'fMatrix[4][4]', 137)]\n",
      "[(b'fMatrix[4][4]', 200)]\n"
     ]
    }
   ],
   "source": [
    "# This is why the length of arrays in iterate depends on the number of branches you're looking at.\n",
    "\n",
    "# Exercise: control it explicitly with entrysteps.\n",
    "\n",
    "for arrays in tree.iterate([\"fMatrix[4][4]\", ]):      # \"fTemperature\"\n",
    "    print([(n, len(x)) for n, x in arrays.items()])"
   ]
  },
  {
   "cell_type": "markdown",
   "metadata": {},
   "source": [
    "<br><br>\n",
    "\n",
    "## Lazy arrays\n",
    "\n",
    "<br>\n",
    "\n",
    "Iteration over arrays helps you avoid running out of memory, but you have to write your analysis in a loop over batches.\n",
    "\n",
    "Lazy arrays let you pretend the whole array is in memory, but only access it a little at a time.\n",
    "\n",
    "<br>\n",
    "\n",
    "This is actually a _high-level_ feature.\n",
    "\n",
    "<br><br>"
   ]
  },
  {
   "cell_type": "code",
   "execution_count": 24,
   "metadata": {},
   "outputs": [
    {
     "data": {
      "text/plain": [
       "<ChunkedArray [<Row 0> <Row 1> <Row 2> ... <Row 2418> <Row 2419> <Row 2420>] at 0x7d622c0bee10>"
      ]
     },
     "execution_count": 24,
     "metadata": {},
     "output_type": "execute_result"
    }
   ],
   "source": [
    "# uproot.lazyarray(s), TTree.lazyarray(s), and TBranch.lazyarray all give you lazy-loading arrays.\n",
    "\n",
    "arrays = uproot.open(\"data/HZZ-objects.root\")[\"events\"].lazyarrays()\n",
    "\n",
    "# It's a chunked awkward.Tree, which looks like \"<Row>, <Row>, <Row>\" so that you don't accidentally\n",
    "# read in data by looking at it.\n",
    "arrays"
   ]
  },
  {
   "cell_type": "code",
   "execution_count": 25,
   "metadata": {},
   "outputs": [
    {
     "name": "stdout",
     "output_type": "stream",
     "text": [
      "[0, 2421) -> 'jetp4'             -> [0, inf) -> <class 'uproot_methods.classes.TLorentzVector.Methods'>\n",
      "             'jetbtag'           -> [0, inf) -> float32\n",
      "             'jetid'             -> [0, inf) -> bool\n",
      "             'muonp4'            -> [0, inf) -> <class 'uproot_methods.classes.TLorentzVector.Methods'>\n",
      "             'muonq'             -> [0, inf) -> int32\n",
      "             'muoniso'           -> [0, inf) -> float32\n",
      "             'electronp4'        -> [0, inf) -> <class 'uproot_methods.classes.TLorentzVector.Methods'>\n",
      "             'electronq'         -> [0, inf) -> int32\n",
      "             'electroniso'       -> [0, inf) -> float32\n",
      "             'photonp4'          -> [0, inf) -> <class 'uproot_methods.classes.TLorentzVector.Methods'>\n",
      "             'photoniso'         -> [0, inf) -> float32\n",
      "             'MET'               -> <class 'uproot_methods.classes.TVector2.Methods'>\n",
      "             'MC_bquarkhadronic' -> <class 'uproot_methods.classes.TVector3.Methods'>\n",
      "             'MC_bquarkleptonic' -> <class 'uproot_methods.classes.TVector3.Methods'>\n",
      "             'MC_wdecayb'        -> <class 'uproot_methods.classes.TVector3.Methods'>\n",
      "             'MC_wdecaybbar'     -> <class 'uproot_methods.classes.TVector3.Methods'>\n",
      "             'MC_lepton'         -> <class 'uproot_methods.classes.TVector3.Methods'>\n",
      "             'MC_leptonpdgid'    -> int32\n",
      "             'MC_neutrino'       -> <class 'uproot_methods.classes.TVector3.Methods'>\n",
      "             'num_primaryvertex' -> int32\n",
      "             'trigger_isomu24'   -> bool\n",
      "             'eventweight'       -> float32\n"
     ]
    }
   ],
   "source": [
    "print(arrays.type)    # or .columns"
   ]
  },
  {
   "cell_type": "code",
   "execution_count": 26,
   "metadata": {},
   "outputs": [
    {
     "data": {
      "text/plain": [
       "<ChunkedArrayMethods [[TLorentzVector(-52.899, -11.655, -8.1608, 54.779) TLorentzVector(37.738, 0.69347, -11.308, 39.402)] [TLorentzVector(-0.81646, -24.404, 20.2, 31.69)] [TLorentzVector(48.988, -21.723, 11.168, 54.74) TLorentzVector(0.82757, 29.801, 36.965, 47.489)] ... [TLorentzVector(-29.757, -15.304, -52.664, 62.395)] [TLorentzVector(1.1419, 63.61, 162.18, 174.21)] [TLorentzVector(23.913, -35.665, 54.719, 69.556)]] at 0x7d622c99e9e8>"
      ]
     },
     "execution_count": 26,
     "metadata": {},
     "output_type": "execute_result"
    }
   ],
   "source": [
    "# Accessing Muon_Px causes it to be read (in this case, just the first and last baskets).\n",
    "\n",
    "arrays[\"muonp4\"]"
   ]
  },
  {
   "cell_type": "code",
   "execution_count": 29,
   "metadata": {},
   "outputs": [
    {
     "name": "stdout",
     "output_type": "stream",
     "text": [
      "number of entries per basket: [221, 221, 221, 137, 200]\n"
     ]
    }
   ],
   "source": [
    "# Let's reuse that custom interpretation that prints out whenever ROOT data are read.\n",
    "\n",
    "branch = uproot.open(\"http://scikit-hep.org/uproot/examples/Event.root\")[\"T\"][\"fMatrix[4][4]\"]\n",
    "print(\"number of entries per basket:\", [branch.basket_numentries(i) for i in range(branch.numbaskets)])\n",
    "\n",
    "custom_asdtype = branch.interpretation\n",
    "custom_asdtype.__class__ = CustomAsDtype\n",
    "custom_asdtype\n",
    "\n",
    "lazy = branch.lazyarray(custom_asdtype)\n",
    "# (Note: no print-outs yet!)"
   ]
  },
  {
   "cell_type": "code",
   "execution_count": 30,
   "metadata": {},
   "outputs": [
    {
     "name": "stdout",
     "output_type": "stream",
     "text": [
      "asdtype(Bf4(4,4),Lf8(4,4)) identifier\n",
      "asdtype(Bf4(4,4),Lf8(4,4)) fromroot (first step in interpreting data from a ROOT file)\n",
      "asdtype(Bf4(4,4),Lf8(4,4)) identifier\n",
      "asdtype(Bf4(4,4),Lf8(4,4)) finalize (puts finishing touches on array and returns it)\n"
     ]
    },
    {
     "data": {
      "text/plain": [
       "array([[-0.57938826,  0.04526387, -0.5436005 ,  0.        ],\n",
       "       [ 0.62756741,  0.45790792,  1.73868799,  0.        ],\n",
       "       [-0.7387197 ,  1.20050085,  3.7554934 ,  0.        ],\n",
       "       [ 0.        ,  0.        ,  0.        ,  0.        ]])"
      ]
     },
     "execution_count": 30,
     "metadata": {},
     "output_type": "execute_result"
    }
   ],
   "source": [
    "# Exercise: what do you see when you access lazy[0], lazy[221], lazy[442]? Why?\n",
    "\n",
    "lazy[442]"
   ]
  },
  {
   "cell_type": "code",
   "execution_count": 31,
   "metadata": {},
   "outputs": [
    {
     "name": "stdout",
     "output_type": "stream",
     "text": [
      "asdtype(Bf4(4,4),Lf8(4,4)) identifier\n",
      "asdtype(Bf4(4,4),Lf8(4,4)) fromroot (first step in interpreting data from a ROOT file)\n",
      "asdtype(Bf4(4,4),Lf8(4,4)) identifier\n",
      "asdtype(Bf4(4,4),Lf8(4,4)) finalize (puts finishing touches on array and returns it)\n",
      "asdtype(Bf4(4,4),Lf8(4,4)) identifier\n",
      "asdtype(Bf4(4,4),Lf8(4,4)) fromroot (first step in interpreting data from a ROOT file)\n",
      "asdtype(Bf4(4,4),Lf8(4,4)) identifier\n",
      "asdtype(Bf4(4,4),Lf8(4,4)) finalize (puts finishing touches on array and returns it)\n"
     ]
    },
    {
     "data": {
      "text/plain": [
       "dict_keys([<VirtualArray.TransientKey 137860366793640>, <VirtualArray.TransientKey 137860366793416>])"
      ]
     },
     "execution_count": 31,
     "metadata": {},
     "output_type": "execute_result"
    }
   ],
   "source": [
    "# Control the cache, as before.\n",
    "\n",
    "cache = {}\n",
    "\n",
    "lazy = branch.lazyarray(custom_asdtype, cache=cache)\n",
    "lazy[0:441]\n",
    "\n",
    "cache.keys()"
   ]
  },
  {
   "cell_type": "code",
   "execution_count": 32,
   "metadata": {},
   "outputs": [
    {
     "data": {
      "text/plain": [
       "(45, 212)"
      ]
     },
     "execution_count": 32,
     "metadata": {},
     "output_type": "execute_result"
    }
   ],
   "source": [
    "import os\n",
    "import numpy\n",
    "import awkward\n",
    "\n",
    "# Load lazy arrays with persistvirtual=True (persistence methods remember that the chunks of the lazy array are virtual)\n",
    "arrays = uproot.open(\"data/HZZ.root\")[\"events\"].lazyarrays(persistvirtual=True)\n",
    "\n",
    "# Add new data to the Table, not previously in the ROOT file\n",
    "arrays[\"Muon_Pt\"] = numpy.sqrt(arrays[\"Muon_Px\"]**2 + arrays[\"Muon_Py\"]**2)\n",
    "\n",
    "# Save as an awkward-array file\n",
    "awkward.save(\"tmp.awkd\", arrays, mode=\"w\")\n",
    "\n",
    "# The file contains Muon_Pt and only INSTRUCTIONS for reading data from ROOT\n",
    "os.path.getsize(\"tmp.awkd\") // 1024, os.path.getsize(\"data/HZZ.root\") // 1024"
   ]
  },
  {
   "cell_type": "code",
   "execution_count": 33,
   "metadata": {},
   "outputs": [
    {
     "name": "stdout",
     "output_type": "stream",
     "text": [
      "\n",
      "\n",
      "read from data/HZZ.root:\n",
      "arrays['Muon_Pz'] = [[-8.160793 -11.307582] [20.199968] [11.168285 36.96519] ... [-52.66375] [162.17632] [54.719437]]\n",
      "\n",
      "\n",
      "read from tmp.awkd:\n",
      "arrays['Muon_Pt'] = [[54.168106 37.744152] [24.417913] [53.58827 29.811996] ... [33.461536] [63.619816] [42.93995]]\n"
     ]
    }
   ],
   "source": [
    "# So when we read it back, we can pretend it's one dataset, but original columns come from ROOT and derived columns come from the awkd file.\n",
    "\n",
    "arrays = awkward.load(\"tmp.awkd\")\n",
    "\n",
    "print(f\"\\n\\nread from data/HZZ.root:\\narrays['Muon_Pz'] = {arrays['Muon_Pz']}\")\n",
    "print(f\"\\n\\nread from tmp.awkd:\\narrays['Muon_Pt'] = {arrays['Muon_Pt']}\")\n",
    "\n",
    "# Note: won't work if the original ROOT files ever get moved..."
   ]
  },
  {
   "cell_type": "code",
   "execution_count": 34,
   "metadata": {},
   "outputs": [
    {
     "name": "stdout",
     "output_type": "stream",
     "text": [
      "[<Row 3> <Row 4> <Row 8> <Row 9> <Row 11> <Row 12> <Row 14> ...]\n"
     ]
    },
    {
     "data": {
      "text/plain": [
       "53.7626953125"
      ]
     },
     "execution_count": 34,
     "metadata": {},
     "output_type": "execute_result"
    }
   ],
   "source": [
    "# Apply a cut to get a new collection (lazy mask; not a big copy)\n",
    "selected = arrays[arrays['Muon_Pt'].max() > 60]\n",
    "print(selected)\n",
    "\n",
    "# Save the lazily masked data\n",
    "awkward.save(\"tmp2.awkd\", selected, mode=\"w\")\n",
    "\n",
    "# Still not a very big file (essentially an event list)\n",
    "os.path.getsize(\"tmp2.awkd\") / 1024"
   ]
  },
  {
   "cell_type": "code",
   "execution_count": 35,
   "metadata": {},
   "outputs": [
    {
     "name": "stdout",
     "output_type": "stream",
     "text": [
      "\n",
      "\n",
      "file has selected contents:\n",
      "arrays2 = [<Row 3> <Row 4> <Row 8> ... <Row 2406> <Row 2411> <Row 2419>]\n",
      "\n",
      "\n",
      "read from data/HZZ.root:\n",
      "arrays2['Muon_Pz'] = [[403.84845 335.0942] [-89.69573 20.115053] [35.638836 -17.473787] ... [-113.74551 -113.811455] [-24.587757 -0.38994783] [162.17632]]\n",
      "\n",
      "\n",
      "read from tmp.awkd:\n",
      "arrays2['Muon_Pt'] = [[88.63194 77.951485] [81.011406 47.175045] [106.28356 12.311636] ... [76.18734 31.307274] [61.645054 28.647495] [63.619816]]\n"
     ]
    }
   ],
   "source": [
    "# The filtered file contains filtered data\n",
    "arrays2 = awkward.load(\"tmp2.awkd\")\n",
    "\n",
    "print(f\"\\n\\nfile has selected contents:\\narrays2 = {arrays2}\")\n",
    "print(f\"\\n\\nread from data/HZZ.root:\\narrays2['Muon_Pz'] = {arrays2['Muon_Pz']}\")\n",
    "print(f\"\\n\\nread from tmp.awkd:\\narrays2['Muon_Pt'] = {arrays2['Muon_Pt']}\")"
   ]
  },
  {
   "cell_type": "markdown",
   "metadata": {},
   "source": [
    "<br><br><br><br><br>\n",
    "\n",
    "## Remote reading\n",
    "\n",
    "<br>\n",
    "\n",
    "XRootD and HTML\n",
    "\n",
    "<br><br><br><br><br>"
   ]
  },
  {
   "cell_type": "markdown",
   "metadata": {},
   "source": [
    "<br><br><br><br><br>\n",
    "\n",
    "## Parallel reading\n",
    "\n",
    "<br>\n",
    "\n",
    "Executors and blocking\n",
    "\n",
    "<br><br><br><br><br>"
   ]
  }
 ],
 "metadata": {
  "kernelspec": {
   "display_name": "Python 3",
   "language": "python",
   "name": "python3"
  },
  "language_info": {
   "codemirror_mode": {
    "name": "ipython",
    "version": 3
   },
   "file_extension": ".py",
   "mimetype": "text/x-python",
   "name": "python",
   "nbconvert_exporter": "python",
   "pygments_lexer": "ipython3",
   "version": "3.7.1"
  }
 },
 "nbformat": 4,
 "nbformat_minor": 2
}
