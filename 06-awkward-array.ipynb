{
 "cells": [
  {
   "cell_type": "markdown",
   "metadata": {},
   "source": [
    "<br><br><br><br><br>\n",
    "\n",
    "# Awkward Array\n",
    "\n",
    "<br><br><br><br><br>"
   ]
  },
  {
   "cell_type": "code",
   "execution_count": 6,
   "metadata": {},
   "outputs": [
    {
     "name": "stdout",
     "output_type": "stream",
     "text": [
      "<JaggedArray [[-52.899456 37.73778] [-0.81645936] [48.98783 0.8275667] ... [-29.756786] [1.1418698] [23.913206]] at 0x7fa2f46a9fd0>\n",
      "\n",
      "array([-52.899456  ,  -0.81645936,  48.98783   ,  22.088331  ,\n",
      "        45.17132   ,   9.22811   ,  12.538717  ,  34.88376   ,\n",
      "       -53.166973  , -67.014854  ], dtype=float32)\n"
     ]
    }
   ],
   "source": [
    "# Awkward Array (or just \"awkward\") is the library that provides JaggedArrays lazy arrays in uproot.\n",
    "\n",
    "import uproot\n",
    "jagged = uproot.open(\"data/HZZ.root\")[\"events\"][\"Muon_Px\"].array()\n",
    "print(repr(jagged), end=\"\\n\\n\")\n",
    "\n",
    "# Including all the fancy slicing features—everything that Numpy itself can't handle.\n",
    "print(repr(jagged[:10, 0]))"
   ]
  },
  {
   "cell_type": "markdown",
   "metadata": {},
   "source": [
    "**Most users _only_ get awkward through uproot (as a dependency).**\n",
    "\n",
    "<br>\n",
    "\n",
    "<img src=\"img/pip-scientificlinux-uproot.png\" width=\"100%\">"
   ]
  },
  {
   "cell_type": "code",
   "execution_count": 7,
   "metadata": {},
   "outputs": [
    {
     "data": {
      "text/plain": [
       "<JaggedArray [[1.1 2.2 3.3] [] [4.4 5.5]] at 0x7fa2f4766b00>"
      ]
     },
     "execution_count": 7,
     "metadata": {},
     "output_type": "execute_result"
    }
   ],
   "source": [
    "# But you can use it on its own.\n",
    "\n",
    "import awkward\n",
    "\n",
    "jagged = awkward.fromiter([[1.1, 2.2, 3.3], [], [4.4, 5.5]])\n",
    "jagged"
   ]
  },
  {
   "cell_type": "code",
   "execution_count": 9,
   "metadata": {},
   "outputs": [
    {
     "data": {
      "text/plain": [
       "<JaggedArrayMethods [[TLorentzVector(1.1, -2.2, 0.2, 0.511) TLorentzVector(2.2, 0, -0.5, 0.511) TLorentzVector(3.3, 1.1, 0, 0.511)] [] [TLorentzVector(4.4, 1.5, -0.1, 0.511) TLorentzVector(5.5, -1.5, 0.3, 0.511)]] at 0x7fa2f46a9780>"
      ]
     },
     "execution_count": 9,
     "metadata": {},
     "output_type": "execute_result"
    }
   ],
   "source": [
    "# The same is true of uproot-methods; anything that is not strictly I/O related is not in uproot.\n",
    "\n",
    "import uproot_methods\n",
    "\n",
    "pt  = awkward.fromiter([[ 1.1,  2.2, 3.3], [], [ 4.4,  5.5]])\n",
    "eta = awkward.fromiter([[-2.2,  0.0, 1.1], [], [ 1.5, -1.5]])\n",
    "phi = awkward.fromiter([[ 0.2, -0.5, 0.0], [], [-0.1,  0.3]])\n",
    "\n",
    "jagged = uproot_methods.TLorentzVectorArray.from_ptetaphim(pt, eta, phi, 0.511)\n",
    "jagged"
   ]
  }
 ],
 "metadata": {
  "kernelspec": {
   "display_name": "Python 3",
   "language": "python",
   "name": "python3"
  },
  "language_info": {
   "codemirror_mode": {
    "name": "ipython",
    "version": 3
   },
   "file_extension": ".py",
   "mimetype": "text/x-python",
   "name": "python",
   "nbconvert_exporter": "python",
   "pygments_lexer": "ipython3",
   "version": "3.7.2"
  }
 },
 "nbformat": 4,
 "nbformat_minor": 2
}
